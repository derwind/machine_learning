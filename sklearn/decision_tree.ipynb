{
 "cells": [
  {
   "cell_type": "markdown",
   "metadata": {},
   "source": [
    "# Decision Tree"
   ]
  },
  {
   "cell_type": "code",
   "execution_count": 1,
   "metadata": {},
   "outputs": [
    {
     "name": "stdout",
     "output_type": "stream",
     "text": [
      "scikit-learn            1.0.2\n"
     ]
    }
   ],
   "source": [
    "! pip list | grep scikit-learn"
   ]
  },
  {
   "cell_type": "markdown",
   "metadata": {},
   "source": [
    "## Load and investigate the iris dataset"
   ]
  },
  {
   "cell_type": "code",
   "execution_count": 2,
   "metadata": {},
   "outputs": [
    {
     "data": {
      "text/html": [
       "<div>\n",
       "<style scoped>\n",
       "    .dataframe tbody tr th:only-of-type {\n",
       "        vertical-align: middle;\n",
       "    }\n",
       "\n",
       "    .dataframe tbody tr th {\n",
       "        vertical-align: top;\n",
       "    }\n",
       "\n",
       "    .dataframe thead th {\n",
       "        text-align: right;\n",
       "    }\n",
       "</style>\n",
       "<table border=\"1\" class=\"dataframe\">\n",
       "  <thead>\n",
       "    <tr style=\"text-align: right;\">\n",
       "      <th></th>\n",
       "      <th>0</th>\n",
       "      <th>1</th>\n",
       "      <th>2</th>\n",
       "      <th>3</th>\n",
       "      <th>4</th>\n",
       "    </tr>\n",
       "  </thead>\n",
       "  <tbody>\n",
       "    <tr>\n",
       "      <th>0</th>\n",
       "      <td>5.1</td>\n",
       "      <td>3.5</td>\n",
       "      <td>1.4</td>\n",
       "      <td>0.2</td>\n",
       "      <td>Iris-setosa</td>\n",
       "    </tr>\n",
       "    <tr>\n",
       "      <th>1</th>\n",
       "      <td>4.9</td>\n",
       "      <td>3.0</td>\n",
       "      <td>1.4</td>\n",
       "      <td>0.2</td>\n",
       "      <td>Iris-setosa</td>\n",
       "    </tr>\n",
       "    <tr>\n",
       "      <th>2</th>\n",
       "      <td>4.7</td>\n",
       "      <td>3.2</td>\n",
       "      <td>1.3</td>\n",
       "      <td>0.2</td>\n",
       "      <td>Iris-setosa</td>\n",
       "    </tr>\n",
       "    <tr>\n",
       "      <th>3</th>\n",
       "      <td>4.6</td>\n",
       "      <td>3.1</td>\n",
       "      <td>1.5</td>\n",
       "      <td>0.2</td>\n",
       "      <td>Iris-setosa</td>\n",
       "    </tr>\n",
       "    <tr>\n",
       "      <th>4</th>\n",
       "      <td>5.0</td>\n",
       "      <td>3.6</td>\n",
       "      <td>1.4</td>\n",
       "      <td>0.2</td>\n",
       "      <td>Iris-setosa</td>\n",
       "    </tr>\n",
       "  </tbody>\n",
       "</table>\n",
       "</div>"
      ],
      "text/plain": [
       "     0    1    2    3            4\n",
       "0  5.1  3.5  1.4  0.2  Iris-setosa\n",
       "1  4.9  3.0  1.4  0.2  Iris-setosa\n",
       "2  4.7  3.2  1.3  0.2  Iris-setosa\n",
       "3  4.6  3.1  1.5  0.2  Iris-setosa\n",
       "4  5.0  3.6  1.4  0.2  Iris-setosa"
      ]
     },
     "execution_count": 2,
     "metadata": {},
     "output_type": "execute_result"
    }
   ],
   "source": [
    "import pandas as pd\n",
    "\n",
    "df = pd.read_csv('https://archive.ics.uci.edu/ml/machine-learning-databases/iris/iris.data', header=None)\n",
    "df.head()"
   ]
  },
  {
   "cell_type": "code",
   "execution_count": 3,
   "metadata": {},
   "outputs": [
    {
     "name": "stdout",
     "output_type": "stream",
     "text": [
      "[[1.4 0.2]\n",
      " [1.4 0.2]\n",
      " [1.3 0.2]\n",
      " [1.5 0.2]\n",
      " [1.4 0.2]]\n",
      "[0 0 0 0 0]\n"
     ]
    }
   ],
   "source": [
    "from sklearn import datasets\n",
    "import numpy as np\n",
    "\n",
    "iris = datasets.load_iris()\n",
    "# extract 'petal length (cm)' and 'petal width (cm)'\n",
    "X = iris.data[:, [2, 3]]\n",
    "# ['setosa' 'versicolor' 'virginica']\n",
    "y = iris.target\n",
    "\n",
    "print(X[:5])\n",
    "print(y[:5])"
   ]
  },
  {
   "cell_type": "code",
   "execution_count": 4,
   "metadata": {},
   "outputs": [
    {
     "name": "stdout",
     "output_type": "stream",
     "text": [
      "data:\n",
      "[[5.1 3.5 1.4 0.2]\n",
      " [4.9 3.  1.4 0.2]\n",
      " [4.7 3.2 1.3 0.2]\n",
      " [4.6 3.1 1.5 0.2]\n",
      " [5.  3.6 1.4 0.2]]\n",
      "\n",
      "target:\n",
      "[0 0 0 0 0]\n",
      "\n",
      "target_names:\n",
      "['setosa' 'versicolor' 'virginica']\n",
      "\n",
      "feature_names:\n",
      "['sepal length (cm)', 'sepal width (cm)', 'petal length (cm)', 'petal width (cm)']\n",
      "\n"
     ]
    }
   ],
   "source": [
    "def summary(value):\n",
    "    if isinstance(value, list) or isinstance(value, np.ndarray):\n",
    "        if len(value) > 10:\n",
    "            return value[:5]\n",
    "        else:\n",
    "            return value\n",
    "    else:\n",
    "        return value\n",
    "\n",
    "for key, value in zip(iris.keys(), iris.values()):\n",
    "    if key in ['frame', 'DESCR', 'filename', 'data_module']:\n",
    "        continue\n",
    "    print('{}:\\n{}\\n'.format(key, summary(value)))"
   ]
  },
  {
   "cell_type": "code",
   "execution_count": 5,
   "metadata": {},
   "outputs": [],
   "source": [
    "from sklearn.model_selection import train_test_split\n",
    "\n",
    "X_train, X_test, y_train, y_test = train_test_split(\n",
    "    X, y, test_size=0.3, random_state=1, stratify=y)"
   ]
  },
  {
   "cell_type": "code",
   "execution_count": 6,
   "metadata": {},
   "outputs": [
    {
     "name": "stdout",
     "output_type": "stream",
     "text": [
      "[[1.4 0.2]\n",
      " [1.7 0.2]\n",
      " [5.3 2.3]\n",
      " [5.7 2.1]\n",
      " [1.2 0.2]]\n",
      "[[5.4 2.3]\n",
      " [1.7 0.4]\n",
      " [1.4 0.3]\n",
      " [4.5 1.7]\n",
      " [4.4 1.4]]\n",
      "[0 0 2 2 0]\n",
      "[2 0 0 2 1]\n"
     ]
    }
   ],
   "source": [
    "print(X_train[:5])\n",
    "print(X_test[:5])\n",
    "print(y_train[:5])\n",
    "print(y_test[:5])"
   ]
  },
  {
   "cell_type": "code",
   "execution_count": 7,
   "metadata": {},
   "outputs": [],
   "source": [
    "from matplotlib.colors import ListedColormap\n",
    "import matplotlib.pyplot as plt\n",
    "\n",
    "# To check recent matplotlib compatibility\n",
    "import matplotlib\n",
    "from distutils.version import LooseVersion\n",
    "\n",
    "\n",
    "def plot_decision_regions(X, y, classifier, test_idx=None, resolution=0.02):\n",
    "\n",
    "    # setup marker generator and color map\n",
    "    markers = ('s', 'x', 'o', '^', 'v')\n",
    "    colors = ('red', 'blue', 'lightgreen', 'gray', 'cyan')\n",
    "    cmap = ListedColormap(colors[:len(np.unique(y))])\n",
    "\n",
    "    # plot the decision surface\n",
    "    x1_min, x1_max = X[:, 0].min() - 1, X[:, 0].max() + 1\n",
    "    x2_min, x2_max = X[:, 1].min() - 1, X[:, 1].max() + 1\n",
    "    xx1, xx2 = np.meshgrid(np.arange(x1_min, x1_max, resolution),\n",
    "                           np.arange(x2_min, x2_max, resolution))\n",
    "    Z = classifier.predict(np.array([xx1.ravel(), xx2.ravel()]).T)\n",
    "    Z = Z.reshape(xx1.shape)\n",
    "    plt.contourf(xx1, xx2, Z, alpha=0.3, cmap=cmap)\n",
    "    plt.xlim(xx1.min(), xx1.max())\n",
    "    plt.ylim(xx2.min(), xx2.max())\n",
    "\n",
    "    for idx, cl in enumerate(np.unique(y)):\n",
    "        plt.scatter(x=X[y == cl, 0], \n",
    "                    y=X[y == cl, 1],\n",
    "                    alpha=0.8, \n",
    "                    color=colors[idx],\n",
    "                    marker=markers[idx], \n",
    "                    label=cl, \n",
    "                    edgecolor='black')\n",
    "\n",
    "    # highlight test examples\n",
    "    if test_idx:\n",
    "        # plot all examples\n",
    "        X_test, y_test = X[test_idx, :], y[test_idx]\n",
    "\n",
    "        \n",
    "        if LooseVersion(matplotlib.__version__) < LooseVersion('0.3.4'):\n",
    "            plt.scatter(X_test[:, 0],\n",
    "                        X_test[:, 1],\n",
    "                        c='',\n",
    "                        edgecolor='black',\n",
    "                        alpha=1.0,\n",
    "                        linewidth=1,\n",
    "                        marker='o',\n",
    "                        s=100, \n",
    "                        label='test set')\n",
    "        else:\n",
    "            plt.scatter(X_test[:, 0],\n",
    "                        X_test[:, 1],\n",
    "                        c='none',\n",
    "                        edgecolor='black',\n",
    "                        alpha=1.0,\n",
    "                        linewidth=1,\n",
    "                        marker='o',\n",
    "                        s=100, \n",
    "                        label='test set')   "
   ]
  },
  {
   "cell_type": "code",
   "execution_count": 8,
   "metadata": {},
   "outputs": [
    {
     "name": "stderr",
     "output_type": "stream",
     "text": [
      "<ipython-input-7-a2fb3c03d1d9>:28: UserWarning: You passed a edgecolor/edgecolors ('black') for an unfilled marker ('x').  Matplotlib is ignoring the edgecolor in favor of the facecolor.  This behavior may change in the future.\n",
      "  plt.scatter(x=X[y == cl, 0],\n"
     ]
    },
    {
     "data": {
      "image/png": "[encoded data removed]",
      "text/plain": [
       "<Figure size 432x288 with 1 Axes>"
      ]
     },
     "metadata": {
      "needs_background": "light"
     },
     "output_type": "display_data"
    }
   ],
   "source": [
    "# https://scikit-learn.org/stable/modules/tree.html\n",
    "# https://scikit-learn.org/stable/modules/generated/sklearn.tree.DecisionTreeClassifier.html\n",
    "from sklearn.tree import DecisionTreeClassifier, export_text\n",
    "\n",
    "tree = DecisionTreeClassifier(criterion='entropy', max_depth=3, random_state=0)\n",
    "tree.fit(X_train, y_train)\n",
    "X_combined = np.vstack((X_train, X_test))\n",
    "y_combined = np.hstack((y_train, y_test))\n",
    "plot_decision_regions(X_combined, y_combined, classifier=tree, test_idx=range(len(X_train), len(X_train)+len(X_test)))\n",
    "plt.xlabel('petal length [cm]')\n",
    "plt.ylabel('petal width [cm]')\n",
    "plt.legend(loc='upper left')\n",
    "plt.show()"
   ]
  },
  {
   "cell_type": "code",
   "execution_count": 9,
   "metadata": {},
   "outputs": [
    {
     "name": "stdout",
     "output_type": "stream",
     "text": [
      "|--- petal width (cm) <= 0.75\n",
      "|   |--- class: 0\n",
      "|--- petal width (cm) >  0.75\n",
      "|   |--- petal length (cm) <= 4.75\n",
      "|   |   |--- class: 1\n",
      "|   |--- petal length (cm) >  4.75\n",
      "|   |   |--- petal length (cm) <= 5.15\n",
      "|   |   |   |--- class: 2\n",
      "|   |   |--- petal length (cm) >  5.15\n",
      "|   |   |   |--- class: 2\n",
      "\n"
     ]
    }
   ],
   "source": [
    "r = export_text(tree, feature_names=iris['feature_names'][2:])\n",
    "print(r)"
   ]
  },
  {
   "cell_type": "code",
   "execution_count": 10,
   "metadata": {},
   "outputs": [
    {
     "name": "stdout",
     "output_type": "stream",
     "text": [
      "[[15  0  0]\n",
      " [ 0 14  1]\n",
      " [ 0  1 14]]\n",
      "0.9555555555555556\n",
      "0.9555555555555556\n"
     ]
    }
   ],
   "source": [
    "from sklearn.metrics import confusion_matrix\n",
    "\n",
    "y_pred = tree.predict(X_test)\n",
    "\n",
    "# confusion matrix\n",
    "conf_mat = confusion_matrix(y_test, y_pred)\n",
    "print(conf_mat)\n",
    "\n",
    "# accuracy\n",
    "print(tree.score(X_test, y_test))\n",
    "print(np.trace(conf_mat) / len(y_test))"
   ]
  },
  {
   "cell_type": "markdown",
   "metadata": {},
   "source": [
    "## Generalization performance"
   ]
  },
  {
   "cell_type": "code",
   "execution_count": 11,
   "metadata": {},
   "outputs": [
    {
     "name": "stdout",
     "output_type": "stream",
     "text": [
      "total train data=105\n",
      "[0.01]\n",
      "|--- class: 0\n",
      "\n",
      "0.3333333333333333\n",
      "\n",
      "[0.05]\n",
      "|--- petal width (cm) <= 1.15\n",
      "|   |--- class: 0\n",
      "|--- petal width (cm) >  1.15\n",
      "|   |--- class: 2\n",
      "\n",
      "0.6666666666666666\n",
      "\n",
      "[0.1]\n",
      "|--- petal width (cm) <= 1.45\n",
      "|   |--- petal length (cm) <= 3.15\n",
      "|   |   |--- class: 0\n",
      "|   |--- petal length (cm) >  3.15\n",
      "|   |   |--- class: 1\n",
      "|--- petal width (cm) >  1.45\n",
      "|   |--- class: 2\n",
      "\n",
      "0.8888888888888888\n",
      "\n",
      "[0.3]\n",
      "|--- petal length (cm) <= 4.75\n",
      "|   |--- petal length (cm) <= 2.60\n",
      "|   |   |--- class: 0\n",
      "|   |--- petal length (cm) >  2.60\n",
      "|   |   |--- class: 1\n",
      "|--- petal length (cm) >  4.75\n",
      "|   |--- class: 2\n",
      "\n",
      "0.9555555555555556\n",
      "\n",
      "[0.5]\n",
      "|--- petal length (cm) <= 4.75\n",
      "|   |--- petal length (cm) <= 2.60\n",
      "|   |   |--- class: 0\n",
      "|   |--- petal length (cm) >  2.60\n",
      "|   |   |--- class: 1\n",
      "|--- petal length (cm) >  4.75\n",
      "|   |--- petal width (cm) <= 1.55\n",
      "|   |   |--- petal length (cm) <= 5.00\n",
      "|   |   |   |--- class: 1\n",
      "|   |   |--- petal length (cm) >  5.00\n",
      "|   |   |   |--- class: 2\n",
      "|   |--- petal width (cm) >  1.55\n",
      "|   |   |--- class: 2\n",
      "\n",
      "0.9777777777777777\n",
      "\n",
      "[1.0]\n",
      "|--- petal width (cm) <= 0.75\n",
      "|   |--- class: 0\n",
      "|--- petal width (cm) >  0.75\n",
      "|   |--- petal length (cm) <= 4.75\n",
      "|   |   |--- class: 1\n",
      "|   |--- petal length (cm) >  4.75\n",
      "|   |   |--- petal length (cm) <= 5.15\n",
      "|   |   |   |--- class: 2\n",
      "|   |   |--- petal length (cm) >  5.15\n",
      "|   |   |   |--- class: 2\n",
      "\n",
      "0.9555555555555556\n",
      "\n"
     ]
    }
   ],
   "source": [
    "total = len(y_train)\n",
    "print(f'total train data={total}')\n",
    "for ratio in [.01, .05, .1, .3, .5, 1.]:\n",
    "    n_elem = int(total * ratio) \n",
    "    X_train_sub = X_train[:n_elem]\n",
    "    y_train_sub = y_train[:n_elem]\n",
    "\n",
    "    tree = DecisionTreeClassifier(criterion='entropy', max_depth=3, random_state=0)\n",
    "    tree.fit(X_train_sub, y_train_sub)\n",
    "    r = export_text(tree, feature_names=iris['feature_names'][2:])\n",
    "    print(f'[{ratio}]')\n",
    "    print(r)\n",
    "    print(tree.score(X_test, y_test))\n",
    "    print()"
   ]
  }
 ],
 "metadata": {
  "kernelspec": {
   "display_name": "Python 3",
   "language": "python",
   "name": "python3"
  },
  "language_info": {
   "codemirror_mode": {
    "name": "ipython",
    "version": 3
   },
   "file_extension": ".py",
   "mimetype": "text/x-python",
   "name": "python",
   "nbconvert_exporter": "python",
   "pygments_lexer": "ipython3",
   "version": "3.8.7"
  }
 },
 "nbformat": 4,
 "nbformat_minor": 5
}
