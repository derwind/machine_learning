{
 "cells": [
  {
   "cell_type": "markdown",
   "metadata": {},
   "source": [
    "# XGBoost"
   ]
  },
  {
   "cell_type": "code",
   "execution_count": 1,
   "metadata": {},
   "outputs": [
    {
     "name": "stdout",
     "output_type": "stream",
     "text": [
      "xgboost                 1.5.2\n"
     ]
    }
   ],
   "source": [
    "! pip list | grep xgboost"
   ]
  },
  {
   "cell_type": "markdown",
   "metadata": {},
   "source": [
    "## Load and investigate the iris dataset"
   ]
  },
  {
   "cell_type": "code",
   "execution_count": 2,
   "metadata": {},
   "outputs": [],
   "source": [
    "from sklearn import datasets\n",
    "import numpy as np\n",
    "\n",
    "iris = datasets.load_iris()\n",
    "# extract 'petal length (cm)' and 'petal width (cm)'\n",
    "X = iris.data[:, [2, 3]]\n",
    "# ['setosa' 'versicolor' 'virginica']\n",
    "y = iris.target"
   ]
  },
  {
   "cell_type": "code",
   "execution_count": 3,
   "metadata": {},
   "outputs": [
    {
     "name": "stdout",
     "output_type": "stream",
     "text": [
      "100 20 30\n"
     ]
    }
   ],
   "source": [
    "from sklearn.model_selection import train_test_split\n",
    "\n",
    "X_train, X_test, y_train, y_test = train_test_split(\n",
    "    X, y, test_size=0.2, random_state=1, stratify=y)\n",
    "\n",
    "X_train, X_val, y_train, y_val = train_test_split(\n",
    "    X_train, y_train, test_size=0.16, random_state=1, stratify=y_train)\n",
    "print(len(y_train), len(y_val), len(y_test))"
   ]
  },
  {
   "cell_type": "code",
   "execution_count": 4,
   "metadata": {},
   "outputs": [],
   "source": [
    "from matplotlib.colors import ListedColormap\n",
    "import matplotlib.pyplot as plt\n",
    "\n",
    "# To check recent matplotlib compatibility\n",
    "import matplotlib\n",
    "from distutils.version import LooseVersion\n",
    "\n",
    "\n",
    "def prob2index(prob):\n",
    "    return np.array([np.argmax(ps) for ps in prob])\n",
    "\n",
    "def plot_decision_regions(X, y, classifier, test_idx=None, resolution=0.02):\n",
    "\n",
    "    # setup marker generator and color map\n",
    "    markers = ('s', 'x', 'o', '^', 'v')\n",
    "    colors = ('red', 'blue', 'lightgreen', 'gray', 'cyan')\n",
    "    cmap = ListedColormap(colors[:len(np.unique(y))])\n",
    "\n",
    "    # plot the decision surface\n",
    "    x1_min, x1_max = X[:, 0].min() - 1, X[:, 0].max() + 1\n",
    "    x2_min, x2_max = X[:, 1].min() - 1, X[:, 1].max() + 1\n",
    "    xx1, xx2 = np.meshgrid(np.arange(x1_min, x1_max, resolution),\n",
    "                           np.arange(x2_min, x2_max, resolution))\n",
    "    Z = classifier.predict(xgb.DMatrix(np.array([xx1.ravel(), xx2.ravel()]).T))\n",
    "    Z = prob2index(Z)\n",
    "    Z = Z.reshape(xx1.shape)\n",
    "    plt.contourf(xx1, xx2, Z, alpha=0.3, cmap=cmap)\n",
    "    plt.xlim(xx1.min(), xx1.max())\n",
    "    plt.ylim(xx2.min(), xx2.max())\n",
    "\n",
    "    for idx, cl in enumerate(np.unique(y)):\n",
    "        plt.scatter(x=X[y == cl, 0], \n",
    "                    y=X[y == cl, 1],\n",
    "                    alpha=0.8, \n",
    "                    color=colors[idx],\n",
    "                    marker=markers[idx], \n",
    "                    label=cl, \n",
    "                    edgecolor='black')\n",
    "\n",
    "    # highlight test examples\n",
    "    if test_idx:\n",
    "        # plot all examples\n",
    "        X_test, y_test = X[test_idx, :], y[test_idx]\n",
    "\n",
    "        \n",
    "        if LooseVersion(matplotlib.__version__) < LooseVersion('0.3.4'):\n",
    "            plt.scatter(X_test[:, 0],\n",
    "                        X_test[:, 1],\n",
    "                        c='',\n",
    "                        edgecolor='black',\n",
    "                        alpha=1.0,\n",
    "                        linewidth=1,\n",
    "                        marker='o',\n",
    "                        s=100, \n",
    "                        label='test set')\n",
    "        else:\n",
    "            plt.scatter(X_test[:, 0],\n",
    "                        X_test[:, 1],\n",
    "                        c='none',\n",
    "                        edgecolor='black',\n",
    "                        alpha=1.0,\n",
    "                        linewidth=1,\n",
    "                        marker='o',\n",
    "                        s=100, \n",
    "                        label='test set')   "
   ]
  },
  {
   "cell_type": "code",
   "execution_count": 5,
   "metadata": {},
   "outputs": [
    {
     "name": "stdout",
     "output_type": "stream",
     "text": [
      "[0]\ttrain-mlogloss:0.96854\teval-mlogloss:0.97734\n",
      "[1]\ttrain-mlogloss:0.85929\teval-mlogloss:0.87612\n",
      "[2]\ttrain-mlogloss:0.76628\teval-mlogloss:0.79053\n",
      "[3]\ttrain-mlogloss:0.68627\teval-mlogloss:0.71788\n",
      "[4]\ttrain-mlogloss:0.61698\teval-mlogloss:0.65460\n",
      "[5]\ttrain-mlogloss:0.55687\teval-mlogloss:0.60092\n",
      "[6]\ttrain-mlogloss:0.50413\teval-mlogloss:0.55433\n",
      "[7]\ttrain-mlogloss:0.45729\teval-mlogloss:0.51285\n",
      "[8]\ttrain-mlogloss:0.41617\teval-mlogloss:0.47751\n",
      "[9]\ttrain-mlogloss:0.37969\teval-mlogloss:0.44663\n"
     ]
    },
    {
     "name": "stderr",
     "output_type": "stream",
     "text": [
      "<ipython-input-4-55fb582a2255>:32: UserWarning: You passed a edgecolor/edgecolors ('black') for an unfilled marker ('x').  Matplotlib is ignoring the edgecolor in favor of the facecolor.  This behavior may change in the future.\n",
      "  plt.scatter(x=X[y == cl, 0],\n"
     ]
    },
    {
     "data": {
      "image/png": "[encoded data removed]",
      "text/plain": [
       "<Figure size 432x288 with 1 Axes>"
      ]
     },
     "metadata": {
      "needs_background": "light"
     },
     "output_type": "display_data"
    }
   ],
   "source": [
    "# https://xgboost.readthedocs.io/en/stable/index.html\n",
    "import xgboost as xgb\n",
    "\n",
    "# https://github.com/ghmagazine/kagglebook/tree/master/ch04-model-interface\n",
    "dtrain = xgb.DMatrix(X_train, label=y_train)\n",
    "dvalid = xgb.DMatrix(X_val, label=y_val)\n",
    "dtest  = xgb.DMatrix(X_test)\n",
    "\n",
    "param = {\n",
    "    # When used with multi-class classification, objective should be multi:softprob\n",
    "    # instead of multi:softmax, as the latter doesn’t output probability.\n",
    "    'objective':'multi:softprob',\n",
    "    'eval_metric': 'mlogloss',\n",
    "    'num_class': len(iris['target_names']),\n",
    "    'max_depth': 3,\n",
    "    'eta': 0.1,\n",
    "    'verbosity': 1,\n",
    "    'random_state': 71,\n",
    "    #'gpu_id': 0,\n",
    "    #'tree_method': 'gpu_hist',\n",
    "}\n",
    "\n",
    "watchlist = {(dtrain, 'train'), (dvalid, 'eval')}\n",
    "\n",
    "# https://xgboost.readthedocs.io/en/stable/python/python_api.html#module-xgboost.training\n",
    "bst = xgb.train(param, dtrain, num_boost_round=10, evals=watchlist, early_stopping_rounds=10)\n",
    "\n",
    "plot_decision_regions(X_train, y_train, classifier=bst)\n",
    "plt.xlabel('petal length [cm]')\n",
    "plt.ylabel('petal width [cm]')\n",
    "plt.legend(loc='upper left')\n",
    "plt.show()"
   ]
  },
  {
   "cell_type": "code",
   "execution_count": 6,
   "metadata": {},
   "outputs": [
    {
     "name": "stdout",
     "output_type": "stream",
     "text": [
      "[[10  0  0]\n",
      " [ 0 10  0]\n",
      " [ 0  1  9]]\n",
      "0.9666666666666667\n",
      "0.9666666666666667\n"
     ]
    }
   ],
   "source": [
    "from sklearn.metrics import accuracy_score, confusion_matrix\n",
    "\n",
    "y_pred = bst.predict(dtest)\n",
    "y_pred = prob2index(y_pred)\n",
    "\n",
    "# confusion matrix\n",
    "conf_mat = confusion_matrix(y_test, y_pred)\n",
    "print(conf_mat)\n",
    "\n",
    "# accuracy\n",
    "print(accuracy_score(y_pred, y_test))\n",
    "print(np.trace(conf_mat) / len(y_test))"
   ]
  }
 ],
 "metadata": {
  "kernelspec": {
   "display_name": "Python 3",
   "language": "python",
   "name": "python3"
  },
  "language_info": {
   "codemirror_mode": {
    "name": "ipython",
    "version": 3
   },
   "file_extension": ".py",
   "mimetype": "text/x-python",
   "name": "python",
   "nbconvert_exporter": "python",
   "pygments_lexer": "ipython3",
   "version": "3.8.7"
  }
 },
 "nbformat": 4,
 "nbformat_minor": 5
}
