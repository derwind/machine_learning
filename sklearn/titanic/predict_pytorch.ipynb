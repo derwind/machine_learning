{
 "cells": [
  {
   "cell_type": "markdown",
   "metadata": {},
   "source": [
    "# Titanic problem\n",
    "\n",
    "## Use neural network approch"
   ]
  },
  {
   "cell_type": "code",
   "execution_count": 1,
   "metadata": {},
   "outputs": [],
   "source": [
    "import torch\n",
    "import torch.nn as nn\n",
    "import torch.nn.functional as F\n",
    "import torch.optim as optim\n",
    "from tqdm import tqdm\n",
    "import numpy as np\n",
    "import pandas as pd\n",
    "from sklearn.preprocessing import MinMaxScaler"
   ]
  },
  {
   "cell_type": "code",
   "execution_count": 2,
   "metadata": {},
   "outputs": [],
   "source": [
    "train_df = pd.read_csv('train.csv')"
   ]
  },
  {
   "cell_type": "markdown",
   "metadata": {},
   "source": [
    "## Convert data into numerals"
   ]
  },
  {
   "cell_type": "code",
   "execution_count": 3,
   "metadata": {},
   "outputs": [
    {
     "data": {
      "text/plain": [
       "714"
      ]
     },
     "execution_count": 3,
     "metadata": {},
     "output_type": "execute_result"
    }
   ],
   "source": [
    "train_df = train_df.dropna(subset=['Age'])\n",
    "train_df['Sex'].replace(['male', 'female'], [0, 1], inplace=True)\n",
    "train_df = pd.get_dummies(train_df, columns=['Embarked'])\n",
    "\n",
    "X_df = train_df[['Pclass', 'Sex', 'Age', 'SibSp', 'Parch', 'Fare', 'Embarked_C', 'Embarked_Q', 'Embarked_S']]\n",
    "scaler = MinMaxScaler()\n",
    "y_df = train_df[['Survived']]\n",
    "X_keys = list(X_df.keys())\n",
    "X_values = scaler.fit_transform(X_df)\n",
    "y_values = np.squeeze(y_df.values)\n",
    "len(X_values)"
   ]
  },
  {
   "cell_type": "markdown",
   "metadata": {},
   "source": [
    "## Prepare the training set and the test set"
   ]
  },
  {
   "cell_type": "code",
   "execution_count": 4,
   "metadata": {},
   "outputs": [
    {
     "data": {
      "text/plain": [
       "device(type='cpu')"
      ]
     },
     "execution_count": 4,
     "metadata": {},
     "output_type": "execute_result"
    }
   ],
   "source": [
    "device = torch.device(\"cuda\" if torch.cuda.is_available() else \"cpu\")\n",
    "device"
   ]
  },
  {
   "cell_type": "code",
   "execution_count": 5,
   "metadata": {},
   "outputs": [
    {
     "name": "stdout",
     "output_type": "stream",
     "text": [
      "429 107 178\n"
     ]
    }
   ],
   "source": [
    "X_train = torch.from_numpy(X_values).float()\n",
    "y_train = torch.from_numpy(y_values)#.float()\n",
    "trainset = torch.utils.data.TensorDataset(X_train, y_train)\n",
    "testsize = int(len(trainset)*.25)\n",
    "trainset, testset = torch.utils.data.random_split(trainset, [len(trainset)-testsize, testsize])\n",
    "valsize = int(len(trainset)*.2)\n",
    "trainset, valset = torch.utils.data.random_split(trainset, [len(trainset)-valsize, valsize])\n",
    "print(len(trainset), len(valset), len(testset))"
   ]
  },
  {
   "cell_type": "code",
   "execution_count": 6,
   "metadata": {},
   "outputs": [],
   "source": [
    "BATCH_SIZE = 32\n",
    "\n",
    "trainloader = torch.utils.data.DataLoader(trainset, batch_size=BATCH_SIZE, shuffle=True)\n",
    "valloader = torch.utils.data.DataLoader(valset, batch_size=BATCH_SIZE)\n",
    "testloader = torch.utils.data.DataLoader(testset, batch_size=BATCH_SIZE)"
   ]
  },
  {
   "cell_type": "markdown",
   "metadata": {},
   "source": [
    "## Define the neural network"
   ]
  },
  {
   "cell_type": "code",
   "execution_count": 7,
   "metadata": {},
   "outputs": [],
   "source": [
    "hidden_size = 128\n",
    "\n",
    "model = nn.Sequential(\n",
    "    nn.Linear(len(X_train[0]), hidden_size),\n",
    "    nn.ReLU(),\n",
    "    nn.Linear(hidden_size, 2)).to(device)"
   ]
  },
  {
   "cell_type": "code",
   "execution_count": 8,
   "metadata": {},
   "outputs": [],
   "source": [
    "criterion = nn.CrossEntropyLoss()\n",
    "lr = 0.001\n",
    "optimizer = optim.Adam(model.parameters(), lr)"
   ]
  },
  {
   "cell_type": "code",
   "execution_count": 9,
   "metadata": {},
   "outputs": [],
   "source": [
    "def train(model, dataloaders, otpimizer, criterion, num_epochs, meta, device):\n",
    "    for epoch in range(1, num_epochs+1):\n",
    "        for phase in [\"train\", \"val\"]:\n",
    "            if phase == \"train\":\n",
    "                model.train()\n",
    "            elif phase == \"val\":\n",
    "                model.eval()\n",
    "\n",
    "            #with torch.set_grad_enabled(phase == \"train\"), tqdm(total=len(dataloaders[phase]), unit=\"batch\") as pbar:\n",
    "            with torch.set_grad_enabled(phase == \"train\"):\n",
    "                loss_sum = 0\n",
    "                total = 0\n",
    "                #pbar.set_description(f\"Epoch[{epoch}/{num_epochs}]({phase})\")\n",
    "                for batch_idx, (xs, ys) in enumerate(dataloaders[phase]):\n",
    "                    xs, ys = xs.to(device), ys.to(device)\n",
    "                    optimizer.zero_grad()\n",
    "                    output = model(xs)\n",
    "                    loss = criterion(output, ys)\n",
    "\n",
    "                    if phase == \"train\":\n",
    "                        loss.backward()\n",
    "                        optimizer.step()\n",
    "\n",
    "                    total += xs.size(0)\n",
    "                    loss_sum += loss.item() * xs.size(0) \n",
    "\n",
    "                    running_loss = loss_sum / total\n",
    "\n",
    "                    #pbar.set_postfix({\"loss\":running_loss})\n",
    "                    #pbar.update(1)\n",
    "                if phase == \"train\":\n",
    "                    meta['losses'].append(running_loss)\n",
    "                    if epoch % 1000 == 0:\n",
    "                        print('loss', running_loss)\n",
    "            if phase == \"train\" and epoch % 1000 == 0:\n",
    "                for g in optimizer.param_groups:\n",
    "                    g['lr'] = g['lr'] / 2"
   ]
  },
  {
   "cell_type": "code",
   "execution_count": 10,
   "metadata": {},
   "outputs": [
    {
     "name": "stdout",
     "output_type": "stream",
     "text": [
      "loss 0.2771000777369057\n",
      "loss 0.25462186159370664\n",
      "loss 0.24714579728447197\n",
      "loss 0.2424658248960833\n",
      "loss 0.24067415359553757\n",
      "loss 0.23965159405917277\n",
      "loss 0.23925901008096886\n",
      "loss 0.23902928342908134\n",
      "loss 0.23892695283070034\n",
      "loss 0.23886100034335833\n"
     ]
    }
   ],
   "source": [
    "dataloaders = {\"train\":trainloader, \"val\":valloader}\n",
    "meta = { 'losses': [] }\n",
    "num_epochs = 10000\n",
    "\n",
    "train(model, dataloaders, optimizer, criterion, num_epochs, meta, device)"
   ]
  },
  {
   "cell_type": "markdown",
   "metadata": {},
   "source": [
    "## Show losses during the training"
   ]
  },
  {
   "cell_type": "code",
   "execution_count": 11,
   "metadata": {},
   "outputs": [
    {
     "data": {
      "image/png": "[encoded data removed]",
      "text/plain": [
       "<Figure size 432x288 with 1 Axes>"
      ]
     },
     "metadata": {
      "needs_background": "light"
     },
     "output_type": "display_data"
    }
   ],
   "source": [
    "import matplotlib.pyplot as plt\n",
    "\n",
    "losses = meta['losses']\n",
    "\n",
    "plt.plot(range(len(losses)), losses)\n",
    "plt.ylabel('loss')\n",
    "plt.show()"
   ]
  },
  {
   "cell_type": "markdown",
   "metadata": {},
   "source": [
    "## Evaluation"
   ]
  },
  {
   "cell_type": "code",
   "execution_count": 12,
   "metadata": {},
   "outputs": [
    {
     "name": "stdout",
     "output_type": "stream",
     "text": [
      "acc = 0.79\n"
     ]
    }
   ],
   "source": [
    "model.eval()\n",
    "total = 0\n",
    "correct = 0\n",
    "for xs, ys in testloader:\n",
    "    xs, ys = xs.to(device), ys.detach().numpy()\n",
    "    output = F.softmax(model(xs), dim=1)\n",
    "    y_pred = np.array([int(p[0] < 0.5) for p in output.detach().numpy()])\n",
    "    total += len(ys)\n",
    "    correct += np.sum(y_pred == ys)\n",
    "print(f'acc = {round(correct/total, 2)}')"
   ]
  }
 ],
 "metadata": {
  "kernelspec": {
   "display_name": "Python 3",
   "language": "python",
   "name": "python3"
  },
  "language_info": {
   "codemirror_mode": {
    "name": "ipython",
    "version": 3
   },
   "file_extension": ".py",
   "mimetype": "text/x-python",
   "name": "python",
   "nbconvert_exporter": "python",
   "pygments_lexer": "ipython3",
   "version": "3.8.7"
  }
 },
 "nbformat": 4,
 "nbformat_minor": 5
}
