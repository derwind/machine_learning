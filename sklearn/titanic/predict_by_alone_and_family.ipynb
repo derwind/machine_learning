{
 "cells": [
  {
   "cell_type": "markdown",
   "metadata": {},
   "source": [
    "# Titanic problem\n",
    "\n",
    "## Use naive approch -- DecisionTree"
   ]
  },
  {
   "cell_type": "code",
   "execution_count": null,
   "metadata": {},
   "outputs": [],
   "source": [
    "import numpy as np\n",
    "import pandas as pd"
   ]
  },
  {
   "cell_type": "code",
   "execution_count": null,
   "metadata": {},
   "outputs": [],
   "source": [
    "train_df = pd.read_csv('train.csv')"
   ]
  },
  {
   "cell_type": "code",
   "execution_count": null,
   "id": "4e62340e-67fb-469f-b869-f8b814ef163f",
   "metadata": {},
   "outputs": [],
   "source": [
    "def get_surname(item):\n",
    "    return item['Name'].split(',')[0]\n",
    "\n",
    "def get_n_members(item):\n",
    "    return (item['SibSp']+item['Parch'] +\n",
    "           1) # self\n",
    "\n",
    "def get_passengers_ticket_numbers(passengers):\n",
    "    tickets = {p['Ticket'] for p in passengers}\n",
    "    if len(tickets) <= 1:\n",
    "        return tickets.pop()\n",
    "    else:\n",
    "        return tickets\n",
    "\n",
    "# Holders of close ticket numbers are likely to be family members.\n",
    "def family_like(item, fam_members):\n",
    "    ticket = item['Ticket']\n",
    "    for member in fam_members:\n",
    "        mem_ticket = member['Ticket']\n",
    "        if ticket == mem_ticket:\n",
    "            return True\n",
    "        if ticket.isdigit() and mem_ticket.isdigit() and abs(int(ticket) - int(mem_ticket)) <= 2:\n",
    "            return True\n",
    "    return False\n",
    "\n",
    "def group_families(df):\n",
    "    families = {}\n",
    "\n",
    "    for i, (column_name, item) in enumerate(df.iterrows()):\n",
    "        fam_name = get_surname(item)\n",
    "        ticket_num = item['Ticket']\n",
    "        fam_dict = families.setdefault(fam_name, {})\n",
    "        for cnt in range(100):\n",
    "            fam_name_mod = f'{fam_name}#{cnt}'\n",
    "            if fam_name_mod in fam_dict:\n",
    "                if family_like(item, fam_dict[fam_name_mod]):\n",
    "                    fam_dict[fam_name_mod].append(item)\n",
    "                    break\n",
    "            else:\n",
    "                fam_dict.setdefault(fam_name_mod, []).append(item)\n",
    "                break\n",
    "    return families\n",
    "\n",
    "def extract_alone_passengers(df, families):\n",
    "    alone_indices = []\n",
    "    for fam_name, subfamilies in families.items():\n",
    "        for _, passengers in subfamilies.items():\n",
    "            if len(passengers) <= 1:\n",
    "                alone_indices.append(passengers[0]['PassengerId'])\n",
    "    return df[df['PassengerId'].isin(alone_indices)]\n",
    "\n",
    "families = group_families(train_df)\n",
    "train_df = extract_alone_passengers(train_df, families)"
   ]
  },
  {
   "cell_type": "code",
   "execution_count": null,
   "id": "01416149-1a29-4135-bc7c-310f638449f9",
   "metadata": {},
   "outputs": [],
   "source": [
    "train_df"
   ]
  },
  {
   "cell_type": "markdown",
   "metadata": {},
   "source": [
    "## Convert data into numerals"
   ]
  },
  {
   "cell_type": "code",
   "execution_count": null,
   "metadata": {},
   "outputs": [],
   "source": [
    "# Age's 19.9% data are missing. Drop them.\n",
    "train_df = train_df.dropna(subset=['Age'])\n",
    "train_df['Sex'].replace(['male', 'female'], [0, 1], inplace=True)\n",
    "# use one-hot encoding\n",
    "train_df = pd.get_dummies(train_df, columns=['Embarked'])"
   ]
  },
  {
   "cell_type": "code",
   "execution_count": null,
   "metadata": {},
   "outputs": [],
   "source": [
    "X_df = train_df[['Pclass', 'Sex', 'Age', 'SibSp', 'Parch', 'Fare', 'Embarked_C', 'Embarked_Q', 'Embarked_S']]\n",
    "y_df = train_df[['Survived']]\n",
    "X_keys = list(X_df.keys())\n",
    "X_values = X_df.values\n",
    "y_values = np.squeeze(y_df.values)\n",
    "len(X_values)"
   ]
  },
  {
   "cell_type": "markdown",
   "metadata": {},
   "source": [
    "## Prepare the training set and the test set"
   ]
  },
  {
   "cell_type": "code",
   "execution_count": null,
   "metadata": {},
   "outputs": [],
   "source": [
    "from sklearn.model_selection import train_test_split\n",
    "\n",
    "X_train, X_test, y_train, y_test = train_test_split(\n",
    "    X_values, y_values, test_size=0.3, random_state=1, stratify=y_values)"
   ]
  },
  {
   "cell_type": "markdown",
   "metadata": {},
   "source": [
    "## Naive approch: use Decision Tree"
   ]
  },
  {
   "cell_type": "code",
   "execution_count": null,
   "metadata": {},
   "outputs": [],
   "source": [
    "from sklearn.tree import DecisionTreeClassifier, export_text\n",
    "\n",
    "tree = DecisionTreeClassifier(criterion='entropy', max_depth=2, random_state=0)\n",
    "tree.fit(X_train, y_train);"
   ]
  },
  {
   "cell_type": "code",
   "execution_count": null,
   "metadata": {},
   "outputs": [],
   "source": [
    "from sklearn.metrics import confusion_matrix\n",
    "\n",
    "y_pred = tree.predict(X_test)\n",
    "\n",
    "# confusion matrix\n",
    "conf_mat = confusion_matrix(y_test, y_pred)\n",
    "print(conf_mat)\n",
    "\n",
    "# accuracy\n",
    "print(tree.score(X_test, y_test))\n",
    "print(np.trace(conf_mat) / len(y_test))"
   ]
  },
  {
   "cell_type": "markdown",
   "metadata": {},
   "source": [
    "## Show the tree's detail"
   ]
  },
  {
   "cell_type": "code",
   "execution_count": null,
   "metadata": {},
   "outputs": [],
   "source": [
    "r = export_text(tree, feature_names=X_keys)\n",
    "print(r)"
   ]
  },
  {
   "cell_type": "markdown",
   "metadata": {},
   "source": [
    "## Cross validation"
   ]
  },
  {
   "cell_type": "code",
   "execution_count": null,
   "metadata": {},
   "outputs": [],
   "source": [
    "from sklearn.model_selection import KFold, StratifiedKFold\n",
    "\n",
    "acc_product = []\n",
    "models = []\n",
    "\n",
    "#cv = KFold(n_splits=5, shuffle=True, random_state=0)\n",
    "cv = StratifiedKFold(n_splits=5, shuffle=True, random_state=0)\n",
    "\n",
    "for fold_id, (train_idx, val_idx) in enumerate(cv.split(X_train, y_train)):\n",
    "    X_tr  = X_train[train_idx, :]\n",
    "    X_val = X_train[val_idx, :]\n",
    "    y_tr  = y_train[train_idx]\n",
    "    y_val = y_train[val_idx]\n",
    "\n",
    "    tree = DecisionTreeClassifier(criterion='entropy', max_depth=3, random_state=0)\n",
    "    tree.fit(X_tr, y_tr)\n",
    "    val_acc  = round(tree.score(X_val, y_val), 2)\n",
    "    test_acc = round(tree.score(X_test, y_test), 2)\n",
    "    acc_product.append(val_acc * test_acc)\n",
    "    models.append(tree)\n",
    "    print(f'[{fold_id}] val acc={val_acc}, test acc={test_acc}')"
   ]
  },
  {
   "cell_type": "code",
   "execution_count": null,
   "metadata": {},
   "outputs": [],
   "source": [
    "best_idx = np.argmax(acc_product)\n",
    "best_model = models[best_idx]\n",
    "print(f'{best_idx=}')"
   ]
  },
  {
   "cell_type": "code",
   "execution_count": null,
   "metadata": {},
   "outputs": [],
   "source": [
    "conf_mat = confusion_matrix(y_test, y_pred)\n",
    "print(conf_mat)\n",
    "\n",
    "r = export_text(best_model, feature_names=X_keys)\n",
    "print(r)"
   ]
  }
 ],
 "metadata": {
  "kernelspec": {
   "display_name": "Python 3",
   "language": "python",
   "name": "python3"
  },
  "language_info": {
   "codemirror_mode": {
    "name": "ipython",
    "version": 3
   },
   "file_extension": ".py",
   "mimetype": "text/x-python",
   "name": "python",
   "nbconvert_exporter": "python",
   "pygments_lexer": "ipython3",
   "version": "3.8.7"
  }
 },
 "nbformat": 4,
 "nbformat_minor": 5
}
