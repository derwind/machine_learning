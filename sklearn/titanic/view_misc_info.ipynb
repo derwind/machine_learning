{
 "cells": [
  {
   "cell_type": "code",
   "execution_count": null,
   "metadata": {},
   "outputs": [],
   "source": [
    "import numpy as np\n",
    "import pandas as pd\n",
    "import seaborn as sns\n",
    "import matplotlib.pyplot as plt\n",
    "# importing pandas_profiling changes backend of matplotlib to Agg\n",
    "#import pandas_profiling"
   ]
  },
  {
   "cell_type": "code",
   "execution_count": null,
   "metadata": {},
   "outputs": [],
   "source": [
    "train_df = pd.read_csv('train.csv')\n",
    "test_df = pd.read_csv('test.csv')"
   ]
  },
  {
   "cell_type": "code",
   "execution_count": null,
   "metadata": {},
   "outputs": [],
   "source": [
    "train_df.keys()"
   ]
  },
  {
   "cell_type": "code",
   "execution_count": null,
   "metadata": {},
   "outputs": [],
   "source": [
    "#train_df.profile_report()"
   ]
  },
  {
   "cell_type": "code",
   "execution_count": null,
   "id": "107aa0ee-d58b-4a55-b00c-bb8f3e828035",
   "metadata": {},
   "outputs": [],
   "source": [
    "def get_surname(item):\n",
    "    return item['Name'].split(',')[0]\n",
    "\n",
    "def get_n_members(item):\n",
    "    return (item['SibSp']+item['Parch'] +\n",
    "           1) # self\n",
    "\n",
    "def get_ticker_numbers(passengers):\n",
    "    tickets = set()\n",
    "    for p in passengers:\n",
    "        tickets.add(p['Ticket'])\n",
    "    if len(tickets) <= 1:\n",
    "        return tickets.pop()\n",
    "    else:\n",
    "        return tickets"
   ]
  },
  {
   "cell_type": "markdown",
   "id": "54d922b0-5f21-4717-ac1e-62bbe2476883",
   "metadata": {},
   "source": [
    "## Show families infos by only surnames"
   ]
  },
  {
   "cell_type": "code",
   "execution_count": null,
   "id": "6a97b619-fc42-4780-a39e-fe54b109a63d",
   "metadata": {
    "tags": []
   },
   "outputs": [],
   "source": [
    "df_concat = pd.concat([train_df, test_df])\n",
    "\n",
    "families = {}\n",
    "\n",
    "for i, (column_name, item) in enumerate(df_concat.iterrows()):\n",
    "    fam_name = get_surname(item)\n",
    "    # XXX: The credibility of n_members is questionable. There may be some typos...\n",
    "    n_members = get_n_members(item)\n",
    "    if n_members <= 1:\n",
    "        for cnt in range(100):\n",
    "            fam_name_mod = f'{fam_name}#{cnt}'\n",
    "            if fam_name_mod not in families:\n",
    "               families[fam_name_mod] = [item]\n",
    "    else:\n",
    "        families.setdefault(fam_name, []).append(item)\n",
    "\n",
    "for fam_name, passengers in families.items():\n",
    "    n_member = len(passengers)\n",
    "    if n_member <= 1:\n",
    "        continue\n",
    "    n_member2 = get_n_members(passengers[0])\n",
    "    ticker_numbers = get_ticker_numbers(passengers)\n",
    "    print(f'{fam_name=}, {n_member=}, {n_member2=} {ticker_numbers=}')"
   ]
  },
  {
   "cell_type": "markdown",
   "id": "751888ab-9fc2-4772-be85-3417a1eea539",
   "metadata": {},
   "source": [
    "## Show families infos by surnames and ticker numbers"
   ]
  },
  {
   "cell_type": "code",
   "execution_count": null,
   "id": "030a849b-d6d3-4d66-9559-9d10b19836d1",
   "metadata": {},
   "outputs": [],
   "source": [
    "def family_like(item, fam_members):\n",
    "    ticket = item['Ticket']\n",
    "    for member in fam_members:\n",
    "        mem_ticket = member['Ticket']\n",
    "        if ticket == mem_ticket:\n",
    "            return True\n",
    "        if ticket.isdigit() and mem_ticket.isdigit() and abs(int(ticket) - int(mem_ticket)) <= 2:\n",
    "            return True\n",
    "    return False\n",
    "\n",
    "families = {}\n",
    "\n",
    "for i, (column_name, item) in enumerate(train_df.iterrows()):\n",
    "    fam_name = get_surname(item)\n",
    "    ticket_num = item['Ticket']\n",
    "    fam_dict = families.setdefault(fam_name, {})\n",
    "    for cnt in range(100):\n",
    "        fam_name_mod = f'{fam_name}#{cnt}'\n",
    "        if fam_name_mod in fam_dict:\n",
    "            if family_like(item, fam_dict[fam_name_mod]):\n",
    "                fam_dict[fam_name_mod].append(item)\n",
    "                break\n",
    "        else:\n",
    "            fam_dict.setdefault(fam_name_mod, []).append(item)\n",
    "            break\n",
    "\n",
    "for fam_name, subfamilies in families.items():\n",
    "    for _, passengers in subfamilies.items():\n",
    "        if len(passengers) <= 1:\n",
    "            continue\n",
    "        print(f'[{fam_name}]')\n",
    "        for p in passengers:\n",
    "            ticket = p['Ticket']\n",
    "            n_member = get_n_members(p)\n",
    "            age = p['Age']\n",
    "            survived = int(p['Survived'])\n",
    "            name = p['Name']\n",
    "            if len(name) >= 40:\n",
    "                name = name[:40] + '...'\n",
    "            print(f' {ticket=}, {n_member=}, {age=}, {survived=}, {name=}')"
   ]
  },
  {
   "cell_type": "markdown",
   "metadata": {},
   "source": [
    "## Drop infos without ages"
   ]
  },
  {
   "cell_type": "code",
   "execution_count": null,
   "metadata": {},
   "outputs": [],
   "source": [
    "print(len(train_df[train_df['Age'].isnull()]), len(train_df))\n",
    "print(f\"Age: {round(len(train_df[train_df['Age'].isnull()])/len(train_df)*100, 2)}% are NaN\")\n",
    "\n",
    "# drop if the age is null etc.\n",
    "train_df = train_df.dropna(subset=['Age'])\n",
    "print(len(train_df))"
   ]
  },
  {
   "cell_type": "markdown",
   "metadata": {},
   "source": [
    "## Fill null Embarked and show infos"
   ]
  },
  {
   "cell_type": "code",
   "execution_count": null,
   "metadata": {},
   "outputs": [],
   "source": [
    "#train_df['Age'].fillna(train_df['Age'].mean().round(), inplace=True)\n",
    "train_df['Embarked'].fillna(train_df['Embarked'].mode().values[0], inplace=True)\n",
    "for k, v in train_df.items():\n",
    "    if k in ['PassengerId', 'Name', 'Ticket', 'Fare', 'Cabin']:\n",
    "        continue\n",
    "    print(k, set(v))"
   ]
  },
  {
   "cell_type": "code",
   "execution_count": null,
   "metadata": {},
   "outputs": [],
   "source": [
    "sub_df = train_df[['Survived', 'Pclass', 'Sex', 'Age', 'SibSp', 'Parch', 'Fare', 'Embarked']]"
   ]
  },
  {
   "cell_type": "code",
   "execution_count": null,
   "metadata": {},
   "outputs": [],
   "source": [
    "plt.hist(sub_df.loc[sub_df['Survived']==0, 'Age'], bins=30, alpha=0.5, label='0', color='#ffbb00')\n",
    "plt.hist(sub_df.loc[sub_df['Survived']==1, 'Age'], bins=30, alpha=0.5, label='1', color='#ff00ff')\n",
    "plt.xlabel('Age')\n",
    "plt.ylabel('count')\n",
    "plt.legend(title='Survived')\n",
    "plt.show()"
   ]
  },
  {
   "cell_type": "code",
   "execution_count": null,
   "metadata": {},
   "outputs": [],
   "source": [
    "sns.countplot(x='SibSp', hue='Survived', data=sub_df)\n",
    "plt.legend(loc='upper right', title='Survuved')\n",
    "plt.show()"
   ]
  },
  {
   "cell_type": "markdown",
   "metadata": {},
   "source": [
    "## Show infos with Pclass == 1"
   ]
  },
  {
   "cell_type": "code",
   "execution_count": null,
   "metadata": {},
   "outputs": [],
   "source": [
    "sub_df[sub_df['Pclass']==1][:30]"
   ]
  },
  {
   "cell_type": "markdown",
   "id": "cd01f562-e103-4311-acc5-13dca573a5bc",
   "metadata": {},
   "source": [
    "## Show Pclass count infos by percentage"
   ]
  },
  {
   "cell_type": "code",
   "execution_count": null,
   "metadata": {},
   "outputs": [],
   "source": [
    "df2 = (\n",
    "    sub_df.groupby('Sex')['Pclass']\n",
    "    .value_counts(normalize=True)\n",
    "    .rename(\"percentage\")\n",
    "    .reset_index()\n",
    ")\n",
    "\n",
    "df2"
   ]
  },
  {
   "cell_type": "code",
   "execution_count": null,
   "metadata": {},
   "outputs": [],
   "source": [
    "sns.catplot(\n",
    "    x='Pclass',\n",
    "    y='percentage',\n",
    "    col_order=['male', 'female'],\n",
    "    order=[1, 2, 3],\n",
    "    col='Sex',\n",
    "    data=df2,\n",
    "    kind='bar',\n",
    ")"
   ]
  }
 ],
 "metadata": {
  "kernelspec": {
   "display_name": "Python 3",
   "language": "python",
   "name": "python3"
  },
  "language_info": {
   "codemirror_mode": {
    "name": "ipython",
    "version": 3
   },
   "file_extension": ".py",
   "mimetype": "text/x-python",
   "name": "python",
   "nbconvert_exporter": "python",
   "pygments_lexer": "ipython3",
   "version": "3.8.7"
  }
 },
 "nbformat": 4,
 "nbformat_minor": 5
}
