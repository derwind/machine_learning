{
  "cells": [
    {
      "cell_type": "markdown",
      "id": "44c79493-66bb-432c-9fa8-24033ce637de",
      "metadata": {
        "id": "44c79493-66bb-432c-9fa8-24033ce637de"
      },
      "source": [
        "# arXiv:1906.06329 TensorNetwork for Machine Learning"
      ]
    },
    {
      "cell_type": "code",
      "source": [
        "%%bash\n",
        "\n",
        "pip install torchinfo"
      ],
      "metadata": {
        "colab": {
          "base_uri": "https://localhost:8080/"
        },
        "id": "ZNhq_9R33-un",
        "outputId": "2a4b960f-9d0e-4560-c5e6-8dc478ae88c9"
      },
      "id": "ZNhq_9R33-un",
      "execution_count": 1,
      "outputs": [
        {
          "output_type": "stream",
          "name": "stdout",
          "text": [
            "Collecting torchinfo\n",
            "  Downloading torchinfo-1.8.0-py3-none-any.whl (23 kB)\n",
            "Installing collected packages: torchinfo\n",
            "Successfully installed torchinfo-1.8.0\n"
          ]
        }
      ]
    },
    {
      "cell_type": "code",
      "execution_count": 2,
      "id": "7ea582fb-af1a-4b61-ab5c-038c9680e1e6",
      "metadata": {
        "id": "7ea582fb-af1a-4b61-ab5c-038c9680e1e6"
      },
      "outputs": [],
      "source": [
        "from __future__ import annotations\n",
        "\n",
        "import math\n",
        "import os\n",
        "import sys\n",
        "\n",
        "import matplotlib.pyplot as plt\n",
        "import numpy as np\n",
        "import torch\n",
        "import torch.optim as optim\n",
        "import torchinfo\n",
        "import torchvision\n",
        "import torchvision.transforms as transforms\n",
        "from PIL import Image\n",
        "from torch import nn\n",
        "from torch.utils.data import DataLoader"
      ]
    },
    {
      "cell_type": "code",
      "execution_count": 3,
      "id": "1ba323a8-4df5-4b76-8527-556048f2b3de",
      "metadata": {
        "id": "1ba323a8-4df5-4b76-8527-556048f2b3de",
        "colab": {
          "base_uri": "https://localhost:8080/"
        },
        "outputId": "37974d69-b7c0-4f6d-962b-77c33ec9a3ef"
      },
      "outputs": [
        {
          "output_type": "stream",
          "name": "stdout",
          "text": [
            "Downloading https://raw.githubusercontent.com/facebookresearch/qmnist/master/qmnist-train-images-idx3-ubyte.gz to /root/.torch/QMNIST/raw/qmnist-train-images-idx3-ubyte.gz\n"
          ]
        },
        {
          "output_type": "stream",
          "name": "stderr",
          "text": [
            "100%|██████████| 9704059/9704059 [00:00<00:00, 128069114.91it/s]"
          ]
        },
        {
          "output_type": "stream",
          "name": "stdout",
          "text": [
            "Extracting /root/.torch/QMNIST/raw/qmnist-train-images-idx3-ubyte.gz to /root/.torch/QMNIST/raw\n"
          ]
        },
        {
          "output_type": "stream",
          "name": "stderr",
          "text": [
            "\n"
          ]
        },
        {
          "output_type": "stream",
          "name": "stdout",
          "text": [
            "Downloading https://raw.githubusercontent.com/facebookresearch/qmnist/master/qmnist-train-labels-idx2-int.gz to /root/.torch/QMNIST/raw/qmnist-train-labels-idx2-int.gz\n"
          ]
        },
        {
          "output_type": "stream",
          "name": "stderr",
          "text": [
            "100%|██████████| 463024/463024 [00:00<00:00, 17059587.27it/s]"
          ]
        },
        {
          "output_type": "stream",
          "name": "stdout",
          "text": [
            "Extracting /root/.torch/QMNIST/raw/qmnist-train-labels-idx2-int.gz to /root/.torch/QMNIST/raw\n"
          ]
        },
        {
          "output_type": "stream",
          "name": "stderr",
          "text": [
            "\n"
          ]
        },
        {
          "output_type": "stream",
          "name": "stdout",
          "text": [
            "Downloading https://raw.githubusercontent.com/facebookresearch/qmnist/master/qmnist-test-images-idx3-ubyte.gz to /root/.torch/QMNIST/raw/qmnist-test-images-idx3-ubyte.gz\n"
          ]
        },
        {
          "output_type": "stream",
          "name": "stderr",
          "text": [
            "100%|██████████| 9742279/9742279 [00:00<00:00, 184734123.80it/s]"
          ]
        },
        {
          "output_type": "stream",
          "name": "stdout",
          "text": [
            "Extracting /root/.torch/QMNIST/raw/qmnist-test-images-idx3-ubyte.gz to /root/.torch/QMNIST/raw\n"
          ]
        },
        {
          "output_type": "stream",
          "name": "stderr",
          "text": [
            "\n"
          ]
        },
        {
          "output_type": "stream",
          "name": "stdout",
          "text": [
            "Downloading https://raw.githubusercontent.com/facebookresearch/qmnist/master/qmnist-test-labels-idx2-int.gz to /root/.torch/QMNIST/raw/qmnist-test-labels-idx2-int.gz\n"
          ]
        },
        {
          "output_type": "stream",
          "name": "stderr",
          "text": [
            "100%|██████████| 526800/526800 [00:00<00:00, 18664025.71it/s]"
          ]
        },
        {
          "output_type": "stream",
          "name": "stdout",
          "text": [
            "Extracting /root/.torch/QMNIST/raw/qmnist-test-labels-idx2-int.gz to /root/.torch/QMNIST/raw\n"
          ]
        },
        {
          "output_type": "stream",
          "name": "stderr",
          "text": [
            "\n"
          ]
        }
      ],
      "source": [
        "root = os.path.join(os.getenv('HOME'), '.torch')\n",
        "\n",
        "device = torch.device(\"cpu\")\n",
        "if torch.cuda.is_available():\n",
        "    device = torch.device(\"cuda\")\n",
        "\n",
        "use_fashion_mnist = False\n",
        "\n",
        "default_pix_dims = 2  # dimension of feature space\n",
        "default_bond_dims = 10  # common dimension of virtual indices\n",
        "img_size = 28\n",
        "n_feature = img_size * img_size\n",
        "\n",
        "transform = transforms.Compose([\n",
        "    # transforms.Resize(img_size),\n",
        "    transforms.ToTensor(),\n",
        "])\n",
        "\n",
        "if use_fashion_mnist:\n",
        "    trainset = torchvision.datasets.FashionMNIST(\n",
        "        root=root,\n",
        "        train=True,\n",
        "        download=True,\n",
        "        transform=transform\n",
        "    )\n",
        "\n",
        "    testset = torchvision.datasets.FashionMNIST(\n",
        "        root=root,\n",
        "        train=False,\n",
        "        download=True,\n",
        "        transform=transform\n",
        "    )\n",
        "else:\n",
        "    trainset = torchvision.datasets.QMNIST(\n",
        "        root=root,\n",
        "        train=True,\n",
        "        download=True,\n",
        "        transform=transform\n",
        "    )\n",
        "\n",
        "    testset = torchvision.datasets.QMNIST(\n",
        "        root=root,\n",
        "        train=False,\n",
        "        download=True,\n",
        "        transform=transform\n",
        "    )"
      ]
    },
    {
      "cell_type": "code",
      "execution_count": 4,
      "id": "ff8dba58-7e07-4704-9717-e7146376d000",
      "metadata": {
        "id": "ff8dba58-7e07-4704-9717-e7146376d000"
      },
      "outputs": [],
      "source": [
        "trainloader = torch.utils.data.DataLoader(\n",
        "    trainset,\n",
        "    batch_size = 32,\n",
        "    shuffle=True,\n",
        ")\n",
        "\n",
        "testloader = torch.utils.data.DataLoader(\n",
        "    testset,\n",
        "    batch_size = 32,\n",
        "    shuffle=False,\n",
        ")"
      ]
    },
    {
      "cell_type": "markdown",
      "id": "6e3eeaa7-cd3e-4793-b486-d6084089237e",
      "metadata": {
        "id": "6e3eeaa7-cd3e-4793-b486-d6084089237e"
      },
      "source": [
        "## Visualization"
      ]
    },
    {
      "cell_type": "code",
      "execution_count": 5,
      "id": "acafd1e3-b11b-4744-8a65-95d8183d1a88",
      "metadata": {
        "id": "acafd1e3-b11b-4744-8a65-95d8183d1a88",
        "outputId": "4b2a2b63-fa30-44c6-91ac-912230ac60cc",
        "colab": {
          "base_uri": "https://localhost:8080/",
          "height": 284
        }
      },
      "outputs": [
        {
          "output_type": "display_data",
          "data": {
            "text/plain": [
              "<Figure size 800x300 with 10 Axes>"
            ],
            "image/png": "[encoded data removed]"
          },
          "metadata": {}
        }
      ],
      "source": [
        "imgs, labels = next(iter(trainloader))\n",
        "images = imgs.numpy()\n",
        "labels = labels.numpy()\n",
        "\n",
        "images = [Image.fromarray((img.squeeze() * 255).astype(\"uint8\")) for img in images]\n",
        "\n",
        "row = 2\n",
        "col = 5\n",
        "n_data = row * col\n",
        "\n",
        "fig, ax = plt.subplots(nrows=row, ncols=col, figsize=(8,3))\n",
        "for i, img in enumerate(images[:n_data]):\n",
        "    r= i // col\n",
        "    c= i % col\n",
        "    ax[r, c].set_title(labels[i], fontsize=8)\n",
        "    ax[r, c].axes.xaxis.set_visible(False)\n",
        "    ax[r, c].axes.yaxis.set_visible(False)\n",
        "    ax[r, c].imshow(img, cmap=\"gray\")"
      ]
    },
    {
      "cell_type": "markdown",
      "id": "1c7469c8-2e6b-44e1-81ee-89a7df2eb22f",
      "metadata": {
        "id": "1c7469c8-2e6b-44e1-81ee-89a7df2eb22f"
      },
      "source": [
        "<img width=30% src=\"data:image/png;base64,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\">\n",
        "\n",
        "```python\n",
        "einsum(\n",
        "    \"Bi,Bj,Bk,Bl,Bm,Bn\" + \\\n",
        "    \"iα,αjβ,βkγ,γCδ,δlε,εmζ,ζn\" + \\\n",
        "    \"->BC\",\n",
        "    x1, x2, x3, x4, x5, x6, A1, A2, A3, C, A4, A5, A6,\n",
        ")\n",
        "```"
      ]
    },
    {
      "cell_type": "markdown",
      "id": "07e17a27-f10f-48fa-93c5-f3313d5295a2",
      "metadata": {
        "id": "07e17a27-f10f-48fa-93c5-f3313d5295a2"
      },
      "source": [
        "## Define the model"
      ]
    },
    {
      "cell_type": "code",
      "execution_count": 6,
      "id": "faa39b12-120f-4be4-90eb-dbf03470f6f9",
      "metadata": {
        "id": "faa39b12-120f-4be4-90eb-dbf03470f6f9"
      },
      "outputs": [],
      "source": [
        "def make_tt(\n",
        "    n_feature: int, pix_dims: int, bond_dims: int, n_class: int,\n",
        "    classifier_idx: int | None = None, std: float = 1e-3,\n",
        ") -> list[torch.Tensor]:\n",
        "    tt_cores = []\n",
        "    for i in range(n_feature):\n",
        "        if i == 0:\n",
        "            dims = (pix_dims, bond_dims)\n",
        "            core = torch.zeros(dims)\n",
        "            core[:, 0] = 1\n",
        "            core += torch.normal(mean=0.0, std=std, size=core.shape)\n",
        "        elif i == n_feature - 1:\n",
        "            dims = (bond_dims, pix_dims)\n",
        "            core = torch.zeros(dims)\n",
        "            core[0, :] = 1\n",
        "            core += torch.normal(mean=0.0, std=std, size=core.shape)\n",
        "        else:\n",
        "            dims = (bond_dims, pix_dims, bond_dims)\n",
        "            core = torch.tensor(np.array(pix_dims * [np.eye(bond_dims)], dtype=np.float32)).permute(1, 0, 2)\n",
        "            core += torch.normal(mean=0.0, std=std, size=core.shape)\n",
        "        tt_cores.append(core)\n",
        "    if classifier_idx is not None:\n",
        "        dims = (bond_dims, n_class, bond_dims)\n",
        "        core = torch.tensor(np.array(n_class * [np.eye(bond_dims)], dtype=np.float32)).permute(1, 0, 2)\n",
        "        core += torch.normal(mean=0.0, std=std, size=core.shape)\n",
        "        tt_cores.insert(classifier_idx, core)\n",
        "    return tt_cores\n",
        "\n",
        "\n",
        "class FeatureEmbeddingLayer(nn.Module):\n",
        "    def __init__(self):\n",
        "        super().__init__()\n",
        "\n",
        "    def forward(self, x: torchTensor) -> tuple[torchTensor, ...]:\n",
        "        x = torch.flatten(x, start_dim=1)\n",
        "        x = torch.stack([1-x, x], axis=1).permute((2, 0, 1))\n",
        "        x = tuple(t.squeeze() for t in x.split(1))\n",
        "        # n_feature tensors whose shape is (n_batch, pix_dims)\n",
        "        return x"
      ]
    },
    {
      "cell_type": "code",
      "execution_count": 7,
      "id": "9d9f60c1-1f36-4a56-8898-38ab4fb0a099",
      "metadata": {
        "id": "9d9f60c1-1f36-4a56-8898-38ab4fb0a099"
      },
      "outputs": [],
      "source": [
        "class WeightLayer(nn.Module):\n",
        "    def __init__(self, n_feature: int, pix_dims: int, bond_dims: int, n_class: int):\n",
        "        super().__init__()\n",
        "        self.n_feature = n_feature\n",
        "        classifier_idx = self.classifier_loc(n_feature)\n",
        "        tt_cores = make_tt(n_feature, pix_dims, bond_dims, n_class, classifier_idx=classifier_idx)\n",
        "        self.n_cores = len(tt_cores)\n",
        "        for i, core in enumerate(tt_cores):\n",
        "            param_core = nn.parameter.Parameter(core)\n",
        "            setattr(self, f\"tt_core{i}\", param_core)\n",
        "\n",
        "    def forward(self, x: tuple[torchTensor, ...], n_sub_features: int = 2):\n",
        "        classifier_idx = self.classifier_loc(self.n_feature)\n",
        "        assert n_sub_features * 2 < self.n_feature, f\"{n_sub_features*2=} must be < {self.n_feature=}\"\n",
        "        n_left_right_block, n_remaining_fea = self.left_sub_feature_num(n_sub_features)\n",
        "\n",
        "        start = 0\n",
        "        prev_t = None\n",
        "        for i in range(n_left_right_block):\n",
        "            end = start + n_sub_features\n",
        "            equation = self._make_equation(self.n_feature, start_fea=start, end_fea=end)\n",
        "            t = torch.einsum(equation, *x[start:end], *self.tt_cores[start:end])\n",
        "            if prev_t is None:\n",
        "                prev_t = t\n",
        "            else:\n",
        "                prev_t = torch.einsum(\"Bb,Bbc->Bc\", prev_t, t)\n",
        "\n",
        "            start += n_sub_features\n",
        "        left_t = prev_t\n",
        "\n",
        "        start = n_sub_features * (n_left_right_block * 2 - 1) + n_remaining_fea\n",
        "        prev_t = None\n",
        "        for i in range(n_left_right_block):\n",
        "            end = start + n_sub_features\n",
        "            equation = self._make_equation(self.n_feature, start_fea=start, end_fea=end)\n",
        "            # +1 for tt_cores means consideration of shift for the classifier site\n",
        "            t = torch.einsum(equation, *x[start:end], *self.tt_cores[start + 1:end + 1])\n",
        "            if prev_t is None:\n",
        "                prev_t = t\n",
        "            else:\n",
        "                prev_t = torch.einsum(\"Bbc,Bc->Bb\", t, prev_t)\n",
        "\n",
        "            start -= n_sub_features\n",
        "        right_t = prev_t\n",
        "\n",
        "        start = n_left_right_block * n_sub_features\n",
        "        end = start + n_remaining_fea\n",
        "        equation = self._make_equation(self.n_feature, start_fea=start, end_fea=end)\n",
        "        # +1 for tt_cores means consideration of including the classifier site\n",
        "        classifier_t = torch.einsum(equation, *x[start:end], *self.tt_cores[start:end + 1])\n",
        "        output = torch.einsum(\"ab,abAc,ac->aA\", left_t, classifier_t, right_t)\n",
        "        return output\n",
        "\n",
        "    def forward_full(self, x: tuple[torchTensor, ...]):\n",
        "        equation = self._make_equation(self.n_feature)\n",
        "        output = torch.einsum(equation, *x, *self.tt_cores)\n",
        "        return output\n",
        "\n",
        "    def left_sub_feature_num(self, n_sub_features) -> tuple[int, int]:\n",
        "        remaining = self.n_feature\n",
        "        i = 0\n",
        "        while remaining > n_sub_features * 2:\n",
        "            remaining = remaining - n_sub_features * 2\n",
        "            i += 1\n",
        "        return i, remaining\n",
        "\n",
        "    @property\n",
        "    def tt_cores(self):\n",
        "        return [getattr(self, f\"tt_core{i}\") for i in range(self.n_cores)]\n",
        "\n",
        "    @classmethod\n",
        "    def classifier_loc(cls, n_feature):\n",
        "        return n_feature // 2\n",
        "\n",
        "    @classmethod\n",
        "    def _make_equation(\n",
        "        cls, n_feature: int, start_fea: int = 0, end_fea: int | None = None, batch_c: str = \"a\", class_c: str | None = \"A\"\n",
        "    ):\n",
        "        \"\"\"make an equation for range(start_i, end_i)\n",
        "        \"\"\"\n",
        "\n",
        "        if start_fea < 0:\n",
        "            raise ValueError(f'{start_fea=} must be >= 0.')\n",
        "\n",
        "        if end_fea is None:\n",
        "            end_fea = n_feature\n",
        "\n",
        "        if end_fea > n_feature:\n",
        "            raise ValueError(f'{end_fea=} must be <= {n_feature=}.')\n",
        "\n",
        "        if start_fea >= end_fea:\n",
        "            raise ValueError(f'{start_fea=} must be less than {end_fea=}.')\n",
        "\n",
        "        if end_fea - start_fea > ord(\"Z\") - ord(\"B\") + 1:\n",
        "            raise ValueError(f'{end_fea=} - {start_fea=} must be less than {ord(\"Z\") - ord(\"B\") + 1}.')\n",
        "\n",
        "        classifier_idx = cls.classifier_loc(n_feature)\n",
        "\n",
        "        includes_classifier = start_fea <= classifier_idx <= end_fea - 1\n",
        "\n",
        "        fea_i = ord(\"B\")  # U+0042-\n",
        "        vir_i = ord(\"b\")  # U+0062-\n",
        "\n",
        "        fea_idx: list[str] = []\n",
        "        vir_idx: list[str] = []  # [\"Bb\", \"bCc\", \"cD\"]\n",
        "        pre_vir_idx: list[tuple[str, ...]] = []  # [(\"B\", \"b\"), (\"b\", \"C\", \"c\"), (\"c\", \"D\")]\n",
        "        for i in range(start_fea, end_fea):\n",
        "            fea_idx.append(chr(fea_i))\n",
        "            if i == 0:\n",
        "                vir_i -= 1  # preserve first vir_i\n",
        "                pre_vir_idx.append((chr(fea_i), chr(vir_i + 1)))\n",
        "            elif i == n_feature - 1:\n",
        "                pre_vir_idx.append((chr(vir_i), chr(fea_i)))\n",
        "            else:\n",
        "                pre_vir_idx.append((chr(vir_i), chr(fea_i), chr(vir_i + 1)))\n",
        "            fea_i += 1\n",
        "            vir_i += 1\n",
        "\n",
        "        classifier_loc = classifier_idx - start_fea\n",
        "        for i, idx in enumerate(pre_vir_idx):\n",
        "            if includes_classifier:\n",
        "                if i == classifier_loc:\n",
        "                    if i == 0:\n",
        "                        classifier_idx = f\"{idx[0]}{class_c}{chr(ord(idx[0]) + 1)}\"\n",
        "                        vir_idx.append(classifier_idx)\n",
        "                    else:\n",
        "                        last_vir_idx = vir_idx[-1][-1]\n",
        "                        classifier_idx = f\"{last_vir_idx}{class_c}{chr(ord(last_vir_idx) + 1)}\"\n",
        "                        vir_idx.append(classifier_idx)\n",
        "                if i >= classifier_loc:\n",
        "                    idx = [c if ord(c) < ord(\"a\") else chr(ord(c) + 1) for c in list(idx)]\n",
        "            vir_idx.append(\"\".join(idx))\n",
        "\n",
        "        fea_idx_s = \",\".join([f\"{batch_c}{c}\"for c in fea_idx])\n",
        "\n",
        "        out_index = batch_c\n",
        "        vir_idx_s = \",\".join(vir_idx)\n",
        "        if ord(vir_idx_s[0]) >= ord(\"a\"):\n",
        "            out_index += vir_idx_s[0]\n",
        "        if class_c in vir_idx_s:\n",
        "            out_index += class_c\n",
        "        if ord(vir_idx_s[-1]) >= ord(\"a\"):\n",
        "            out_index += vir_idx_s[-1]\n",
        "\n",
        "        equation = f'{fea_idx_s + \",\" + vir_idx_s}->{out_index}'\n",
        "\n",
        "        return equation\n",
        "\n",
        "\n",
        "class Net(nn.Module):\n",
        "    def __init__(self, n_feature: int, pix_dims: int, bond_dims: int, n_class: int):\n",
        "        super().__init__()\n",
        "\n",
        "        self.fea_layer = FeatureEmbeddingLayer()\n",
        "        self.wgt_layer = WeightLayer(\n",
        "            n_feature=n_feature, pix_dims=pix_dims, bond_dims=bond_dims, n_class=n_class\n",
        "        )\n",
        "        self.softmax = nn.LogSoftmax(dim=1)\n",
        "\n",
        "    def forward(self, x, *args):\n",
        "        x = self.fea_layer(x)\n",
        "        x = self.wgt_layer(x, *args)\n",
        "        x = self.softmax(x)\n",
        "        return x\n",
        "\n",
        "    def forward_full(self, x):\n",
        "        x = self.fea_layer(x)\n",
        "        x = self.wgt_layer.forward_full(x)\n",
        "        x = self.softmax(x)\n",
        "        return x"
      ]
    },
    {
      "cell_type": "code",
      "execution_count": 8,
      "id": "ce58df4e-7f94-485c-94eb-122760e9cc4b",
      "metadata": {
        "id": "ce58df4e-7f94-485c-94eb-122760e9cc4b",
        "outputId": "19750182-f9f8-49dc-babf-e68906fc7a9e",
        "colab": {
          "base_uri": "https://localhost:8080/"
        }
      },
      "outputs": [
        {
          "output_type": "stream",
          "name": "stdout",
          "text": [
            "after net torch.Size([32, 10])\n",
            "output[:5]=tensor([[-2.3026, -2.3026, -2.3049, -2.3040, -2.3028, -2.3018, -2.3019, -2.3008,\n",
            "         -2.3013, -2.3032],\n",
            "        [-2.3026, -2.3027, -2.3049, -2.3039, -2.3029, -2.3018, -2.3019, -2.3008,\n",
            "         -2.3013, -2.3032],\n",
            "        [-2.3026, -2.3027, -2.3048, -2.3039, -2.3028, -2.3018, -2.3019, -2.3009,\n",
            "         -2.3013, -2.3032],\n",
            "        [-2.3026, -2.3028, -2.3048, -2.3040, -2.3029, -2.3018, -2.3018, -2.3008,\n",
            "         -2.3012, -2.3032],\n",
            "        [-2.3026, -2.3027, -2.3049, -2.3039, -2.3028, -2.3018, -2.3018, -2.3009,\n",
            "         -2.3012, -2.3032]], device='cuda:0', grad_fn=<SliceBackward0>)\n",
            "2.3026671409606934\n"
          ]
        }
      ],
      "source": [
        "if False:\n",
        "    fea_layer = FeatureEmbeddingLayer()\n",
        "    wgt_layer = WeightLayer(n_feature=n_feature, pix_dims=default_pix_dims, bond_dims=default_bond_dims, n_class=10)\n",
        "    wgt_layer = wgt_layer.to(device)\n",
        "    imgs, labels = next(iter(trainloader))\n",
        "    imgs = imgs.to(device)\n",
        "    labels = labels.to(device)\n",
        "    print(len(imgs))\n",
        "    x = fea_layer(imgs)\n",
        "    print(len(x), f\"{x[0].shape=}\")\n",
        "    print(\"-\"*20)\n",
        "    x = wgt_layer(x)\n",
        "    print(\"after contraction\", x.shape)\n",
        "    print(x[:5])\n",
        "\n",
        "if True:\n",
        "    net = Net(n_feature=n_feature, pix_dims=default_pix_dims, bond_dims=default_bond_dims, n_class=10)\n",
        "    net = net.to(device)\n",
        "    imgs, labels = next(iter(trainloader))\n",
        "    imgs = imgs.to(device)\n",
        "    labels = labels.to(device)\n",
        "    output = net(imgs, 2)\n",
        "    print(\"after net\", output.shape)\n",
        "    print(f\"{output[:5]=}\")\n",
        "\n",
        "    nll_loss = nn.NLLLoss()\n",
        "    loss = nll_loss(output, labels)\n",
        "    print(loss.item())  # check if “normal” value (< 100) is output!!\n",
        "\n",
        "if False:\n",
        "    net = Net(n_feature=n_feature, pix_dims=default_pix_dims, bond_dims=default_bond_dims, n_class=10)\n",
        "    net = net.to(device)\n",
        "    imgs, labels = next(iter(trainloader))\n",
        "    imgs = imgs.to(device)\n",
        "    labels = labels.to(device)\n",
        "    output1 = net(imgs)\n",
        "    output2 = net.forward_full(imgs)\n",
        "    print(f\"{output1.shape=}\", f\"{output2.shape=}\")\n",
        "    print(torch.allclose(output1, output2))\n",
        "\n",
        "#print(WeightLayer._make_equation(28*28, 0, 10))"
      ]
    },
    {
      "cell_type": "markdown",
      "id": "ce340276-385e-438e-a1b4-43f262e0e4fd",
      "metadata": {
        "id": "ce340276-385e-438e-a1b4-43f262e0e4fd"
      },
      "source": [
        "## Training and validation"
      ]
    },
    {
      "cell_type": "code",
      "execution_count": 9,
      "id": "52ded4ae-3acd-4434-b58b-ac85abc5696b",
      "metadata": {
        "id": "52ded4ae-3acd-4434-b58b-ac85abc5696b"
      },
      "outputs": [],
      "source": [
        "def train(net, device, train_loader, optimizer, epoch, log_interval):\n",
        "    losses = []\n",
        "    nll_loss = nn.NLLLoss()\n",
        "\n",
        "    net.train()\n",
        "    running_loss = 0\n",
        "    n_samples = 0\n",
        "    for batch_idx, (data, target) in enumerate(train_loader):\n",
        "        data, target = data.to(device), target.to(device)\n",
        "        optimizer.zero_grad()\n",
        "        output = net(data)\n",
        "        loss = nll_loss(output, target)\n",
        "        loss.backward()\n",
        "        optimizer.step()\n",
        "        running_loss += loss.item()\n",
        "        n_samples += len(data)\n",
        "        if batch_idx % log_interval == 0:\n",
        "            losses.append(running_loss / n_samples)\n",
        "            running_loss = 0\n",
        "            n_samples = 0\n",
        "            print('Train Epoch: {} [{}/{} ({:.0f}%)]\\tLoss: {:.6f}'.format(\n",
        "                epoch, batch_idx * len(data), len(train_loader.dataset),\n",
        "                100. * batch_idx / len(train_loader), loss.item() / len(data)))\n",
        "    return losses\n",
        "\n",
        "\n",
        "def test(net, device, test_loader):\n",
        "    nll_loss = nn.NLLLoss()\n",
        "\n",
        "    net.eval()\n",
        "    test_loss = 0\n",
        "    correct = 0\n",
        "    with torch.no_grad():\n",
        "        for data, target in test_loader:\n",
        "            data, target = data.to(device), target.to(device)\n",
        "            output = net(data)\n",
        "            test_loss += nll_loss(output, target).item()  # sum up batch loss\n",
        "            pred = output.argmax(dim=1, keepdim=True)  # get the index of the max log-probability\n",
        "            correct += pred.eq(target.view_as(pred)).sum().item()\n",
        "\n",
        "    test_loss /= len(test_loader.dataset)\n",
        "\n",
        "    print('\\nTest set: Average loss: {:.4f}, Accuracy: {}/{} ({:.2f}%)\\n'.format(\n",
        "        test_loss, correct, len(test_loader.dataset),\n",
        "        100. * correct / len(test_loader.dataset)))"
      ]
    },
    {
      "cell_type": "code",
      "execution_count": 10,
      "id": "bf8a117a-063c-4597-b728-0a637ac102bb",
      "metadata": {
        "id": "bf8a117a-063c-4597-b728-0a637ac102bb",
        "outputId": "e4e3624d-6fae-4faa-b818-6eab5d6e1ca9",
        "colab": {
          "base_uri": "https://localhost:8080/"
        }
      },
      "outputs": [
        {
          "output_type": "stream",
          "name": "stdout",
          "text": [
            "==========================================================================================\n",
            "Layer (type (var_name))                  Output Shape              Param #\n",
            "==========================================================================================\n",
            "Net (Net)                                [16, 10]                  --\n",
            "├─FeatureEmbeddingLayer (fea_layer)      [16, 2]                   --\n",
            "├─WeightLayer (wgt_layer)                [16, 10]                  157,440\n",
            "├─LogSoftmax (softmax)                   [16, 10]                  --\n",
            "==========================================================================================\n",
            "Total params: 157,440\n",
            "Trainable params: 157,440\n",
            "Non-trainable params: 0\n",
            "Total mult-adds (M): 0\n",
            "==========================================================================================\n",
            "Input size (MB): 0.05\n",
            "Forward/backward pass size (MB): 0.00\n",
            "Params size (MB): 0.63\n",
            "Estimated Total Size (MB): 0.68\n",
            "==========================================================================================\n"
          ]
        }
      ],
      "source": [
        "net = Net(n_feature=n_feature, pix_dims=default_pix_dims, bond_dims=default_bond_dims, n_class=10).to(device)\n",
        "torchinfo.summary(net, input_size=(16, 1, img_size, img_size), verbose=1, row_settings=[\"var_names\"]);\n",
        "\n",
        "if False:\n",
        "    torch.save(net.to(\"cpu\").state_dict(), \"./model.pt\")"
      ]
    },
    {
      "cell_type": "code",
      "execution_count": 11,
      "id": "f3f04b3b-e3a1-45e1-9d50-d213e2dfa507",
      "metadata": {
        "id": "f3f04b3b-e3a1-45e1-9d50-d213e2dfa507",
        "outputId": "270162ef-fe8c-40da-efdd-8a3d1944b686",
        "colab": {
          "base_uri": "https://localhost:8080/"
        }
      },
      "outputs": [
        {
          "output_type": "stream",
          "name": "stdout",
          "text": [
            "Train Epoch: 1 [0/60000 (0%)]\tLoss: 0.071956\n",
            "Train Epoch: 1 [1600/60000 (3%)]\tLoss: 0.071391\n",
            "Train Epoch: 1 [3200/60000 (5%)]\tLoss: 0.071370\n",
            "Train Epoch: 1 [4800/60000 (8%)]\tLoss: 0.033660\n",
            "Train Epoch: 1 [6400/60000 (11%)]\tLoss: 0.045731\n",
            "Train Epoch: 1 [8000/60000 (13%)]\tLoss: 0.028915\n",
            "Train Epoch: 1 [9600/60000 (16%)]\tLoss: 0.029875\n",
            "Train Epoch: 1 [11200/60000 (19%)]\tLoss: 0.032353\n",
            "Train Epoch: 1 [12800/60000 (21%)]\tLoss: 0.018047\n",
            "Train Epoch: 1 [14400/60000 (24%)]\tLoss: 0.023287\n",
            "Train Epoch: 1 [16000/60000 (27%)]\tLoss: 0.022523\n",
            "Train Epoch: 1 [17600/60000 (29%)]\tLoss: 0.026113\n",
            "Train Epoch: 1 [19200/60000 (32%)]\tLoss: 0.015155\n",
            "Train Epoch: 1 [20800/60000 (35%)]\tLoss: 0.017743\n",
            "Train Epoch: 1 [22400/60000 (37%)]\tLoss: 0.023616\n",
            "Train Epoch: 1 [24000/60000 (40%)]\tLoss: 0.020549\n",
            "Train Epoch: 1 [25600/60000 (43%)]\tLoss: 0.021021\n",
            "Train Epoch: 1 [27200/60000 (45%)]\tLoss: 0.019376\n",
            "Train Epoch: 1 [28800/60000 (48%)]\tLoss: 0.020880\n",
            "Train Epoch: 1 [30400/60000 (51%)]\tLoss: 0.030461\n",
            "Train Epoch: 1 [32000/60000 (53%)]\tLoss: 0.037976\n",
            "Train Epoch: 1 [33600/60000 (56%)]\tLoss: 0.013896\n",
            "Train Epoch: 1 [35200/60000 (59%)]\tLoss: 0.006066\n",
            "Train Epoch: 1 [36800/60000 (61%)]\tLoss: 0.009239\n",
            "Train Epoch: 1 [38400/60000 (64%)]\tLoss: 0.017888\n",
            "Train Epoch: 1 [40000/60000 (67%)]\tLoss: 0.003709\n",
            "Train Epoch: 1 [41600/60000 (69%)]\tLoss: 0.031147\n",
            "Train Epoch: 1 [43200/60000 (72%)]\tLoss: 0.023640\n",
            "Train Epoch: 1 [44800/60000 (75%)]\tLoss: 0.005690\n",
            "Train Epoch: 1 [46400/60000 (77%)]\tLoss: 0.012589\n",
            "Train Epoch: 1 [48000/60000 (80%)]\tLoss: 0.007181\n",
            "Train Epoch: 1 [49600/60000 (83%)]\tLoss: 0.014580\n",
            "Train Epoch: 1 [51200/60000 (85%)]\tLoss: 0.007948\n",
            "Train Epoch: 1 [52800/60000 (88%)]\tLoss: 0.012705\n",
            "Train Epoch: 1 [54400/60000 (91%)]\tLoss: 0.020037\n",
            "Train Epoch: 1 [56000/60000 (93%)]\tLoss: 0.013667\n",
            "Train Epoch: 1 [57600/60000 (96%)]\tLoss: 0.023198\n",
            "Train Epoch: 1 [59200/60000 (99%)]\tLoss: 0.015644\n",
            "\n",
            "Test set: Average loss: 0.0131, Accuracy: 54402/60000 (90.67%)\n",
            "\n",
            "CPU times: user 47min 25s, sys: 5.34 s, total: 47min 31s\n",
            "Wall time: 47min 37s\n"
          ]
        }
      ],
      "source": [
        "%%time\n",
        "\n",
        "optimizer = optim.Adam(net.parameters())\n",
        "\n",
        "# trainloader = torch.utils.data.DataLoader(train_dataset, batch_size=batch_size, shuffle=True)\n",
        "\n",
        "log_interval = 50\n",
        "epochs = 1\n",
        "\n",
        "losses = []\n",
        "for epoch in range(1, epochs + 1):\n",
        "    sublosses = train(net, device, trainloader, optimizer, epoch, log_interval)\n",
        "    losses += sublosses\n",
        "    test(net, device, testloader)"
      ]
    },
    {
      "cell_type": "markdown",
      "id": "e680f653-5108-4035-872e-fbd3e434af7c",
      "metadata": {
        "id": "e680f653-5108-4035-872e-fbd3e434af7c"
      },
      "source": [
        "## Plot losses"
      ]
    },
    {
      "cell_type": "code",
      "execution_count": 12,
      "id": "37d26f49-8ac9-4070-8092-7244439d97b1",
      "metadata": {
        "id": "37d26f49-8ac9-4070-8092-7244439d97b1",
        "outputId": "510bc3fd-45af-47ee-c5ef-75f5cb11e39a",
        "colab": {
          "base_uri": "https://localhost:8080/",
          "height": 430
        }
      },
      "outputs": [
        {
          "output_type": "display_data",
          "data": {
            "text/plain": [
              "<Figure size 640x480 with 1 Axes>"
            ],
            "image/png": "[encoded data removed]"
          },
          "metadata": {}
        }
      ],
      "source": [
        "plt.plot(losses)\n",
        "plt.show()"
      ]
    },
    {
      "cell_type": "code",
      "execution_count": 13,
      "id": "21a25164-0160-4941-9d18-46d2d9786b51",
      "metadata": {
        "id": "21a25164-0160-4941-9d18-46d2d9786b51"
      },
      "outputs": [],
      "source": [
        "if False:\n",
        "    torch.save(net.to(\"cpu\").state_dict(), f\"./model_{img_size}x{img_size}_b{default_bond_dims}.pt\")"
      ]
    }
  ],
  "metadata": {
    "kernelspec": {
      "display_name": "Python 3",
      "name": "python3"
    },
    "language_info": {
      "codemirror_mode": {
        "name": "ipython",
        "version": 3
      },
      "file_extension": ".py",
      "mimetype": "text/x-python",
      "name": "python",
      "nbconvert_exporter": "python",
      "pygments_lexer": "ipython3",
      "version": "3.10.9"
    },
    "colab": {
      "provenance": [],
      "gpuType": "T4"
    },
    "accelerator": "GPU"
  },
  "nbformat": 4,
  "nbformat_minor": 5
}