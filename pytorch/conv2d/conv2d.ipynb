{
 "cells": [
  {
   "cell_type": "code",
   "execution_count": 1,
   "id": "affc13ea-28fa-4f7c-bb29-67cf4725da10",
   "metadata": {},
   "outputs": [],
   "source": [
    "import torch\n",
    "import torch.nn as nn\n",
    "from torch.nn.parameter import Parameter\n",
    "import numpy as np"
   ]
  },
  {
   "cell_type": "code",
   "execution_count": 2,
   "id": "c565596f-be15-4599-8a77-148f71eb54aa",
   "metadata": {},
   "outputs": [
    {
     "name": "stdout",
     "output_type": "stream",
     "text": [
      "torch.Size([1, 3, 4, 4])\n"
     ]
    }
   ],
   "source": [
    "data = np.array([[\n",
    "    [\n",
    "        [1., 0., 1., 0.],\n",
    "        [2., -1., 3., 1.],\n",
    "        [0., 1., 0., 2.],\n",
    "        [5., 4., 3., 1.]\n",
    "    ],\n",
    "    [\n",
    "        [-1., 2., 4., 2.],\n",
    "        [-2., -3., -1., 0.],\n",
    "        [3., 2., 0., 0.],\n",
    "        [5., 1., -2., 1.]\n",
    "    ],\n",
    "    [\n",
    "        [2., 3., 1., 0.],\n",
    "        [-1., -1., 2., -1.],\n",
    "        [3., 2., 1., -1.],\n",
    "        [4., 2., 3., 5.]\n",
    "    ],\n",
    "]])\n",
    "tensor = torch.from_numpy(data).float()\n",
    "print(tensor.shape)"
   ]
  },
  {
   "cell_type": "code",
   "execution_count": 3,
   "id": "0873a75e-2f72-4423-af21-63f33c47704e",
   "metadata": {},
   "outputs": [],
   "source": [
    "conv = nn.Conv2d(3, 1, kernel_size = 3, stride=1, padding=0, bias=False)"
   ]
  },
  {
   "cell_type": "code",
   "execution_count": 4,
   "id": "47f302dd-9ebe-4574-8f58-ab6cf394d096",
   "metadata": {},
   "outputs": [],
   "source": [
    "kernel = np.array([[\n",
    "    [\n",
    "        [0., 1., 0.],\n",
    "        [3., -1., 2.],\n",
    "        [-1., 0., 0.]\n",
    "    ],\n",
    "    [\n",
    "        [1., 2., 1.],\n",
    "        [2., 1., 2.],\n",
    "        [1., 2., 1.]\n",
    "    ],\n",
    "    [\n",
    "        [-3., 0., 2.],\n",
    "        [-2., 0., -2.],\n",
    "        [0., -1., 2.]\n",
    "    ],\n",
    "]])"
   ]
  },
  {
   "cell_type": "code",
   "execution_count": 5,
   "id": "16701345-2077-4673-acd6-3beb5853b8b2",
   "metadata": {},
   "outputs": [],
   "source": [
    "conv.weight = Parameter(torch.from_numpy(kernel).float())"
   ]
  },
  {
   "cell_type": "code",
   "execution_count": 6,
   "id": "c4c48b4c-5d7d-4ab9-88c5-3ce7dd82664d",
   "metadata": {},
   "outputs": [
    {
     "name": "stderr",
     "output_type": "stream",
     "text": [
      "[W NNPACK.cpp:79] Could not initialize NNPACK! Reason: Unsupported hardware.\n"
     ]
    }
   ],
   "source": [
    "output = conv(tensor)\n",
    "output = output.detach().numpy()"
   ]
  },
  {
   "cell_type": "code",
   "execution_count": 7,
   "id": "97c79cad-be6e-49fe-a1c4-71458f28c01d",
   "metadata": {},
   "outputs": [],
   "source": [
    "# make [1, 1, 2, 2] tensors\n",
    "data_ul = data[:,:,:3,:3] # upper left\n",
    "data_ur = data[:,:,:3,1:] # upper right\n",
    "data_ll = data[:,:,1:,:3] # lower left\n",
    "data_lr = data[:,:,1:,1:] # lower left"
   ]
  },
  {
   "cell_type": "code",
   "execution_count": 8,
   "id": "bee8e0f2-3cfd-4138-b5e4-ed9e42c24785",
   "metadata": {},
   "outputs": [],
   "source": [
    "# multiply arguments element-wise and sum them\n",
    "expected = np.array([[[\n",
    "    [np.sum(kernel * data_ul), np.sum(kernel * data_ur)],\n",
    "    [np.sum(kernel * data_ll), np.sum(kernel * data_lr)]\n",
    "]]])"
   ]
  },
  {
   "cell_type": "code",
   "execution_count": 9,
   "id": "20a78376-8d45-4ab6-b612-4d6497df5989",
   "metadata": {},
   "outputs": [
    {
     "name": "stdout",
     "output_type": "stream",
     "text": [
      "True\n"
     ]
    }
   ],
   "source": [
    "print(np.array_equal(output, expected))"
   ]
  }
 ],
 "metadata": {
  "kernelspec": {
   "display_name": "Python 3 (ipykernel)",
   "language": "python",
   "name": "python3"
  },
  "language_info": {
   "codemirror_mode": {
    "name": "ipython",
    "version": 3
   },
   "file_extension": ".py",
   "mimetype": "text/x-python",
   "name": "python",
   "nbconvert_exporter": "python",
   "pygments_lexer": "ipython3",
   "version": "3.9.6"
  }
 },
 "nbformat": 4,
 "nbformat_minor": 5
}
