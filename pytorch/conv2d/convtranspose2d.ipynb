{
 "cells": [
  {
   "cell_type": "code",
   "execution_count": 1,
   "metadata": {},
   "outputs": [],
   "source": [
    "import torch\n",
    "import torch.nn as nn\n",
    "from torch.nn.parameter import Parameter\n",
    "from torchvision import transforms\n",
    "import numpy as np\n",
    "from PIL import Image"
   ]
  },
  {
   "cell_type": "code",
   "execution_count": 2,
   "metadata": {},
   "outputs": [],
   "source": [
    "def binarize(im, thres=100):\n",
    "    tmp = np.array(im)\n",
    "    tmp[tmp >= thres] = 255\n",
    "    tmp[tmp < thres] = 0\n",
    "    return Image.fromarray(tmp)\n",
    "\n",
    "im = Image.open('Lenna.png')\n",
    "# to grayscale\n",
    "im = im.convert('L')\n",
    "im = im.resize((im.size[0]//2, im.size[1]//2))\n",
    "im = binarize(im)"
   ]
  },
  {
   "cell_type": "code",
   "execution_count": 3,
   "metadata": {},
   "outputs": [
    {
     "data": {
      "image/png": "[encoded data removed]",
      "text/plain": [
       "<PIL.Image.Image image mode=L size=128x128 at 0x7F80DB429550>"
      ]
     },
     "execution_count": 3,
     "metadata": {},
     "output_type": "execute_result"
    }
   ],
   "source": [
    "im"
   ]
  },
  {
   "cell_type": "markdown",
   "metadata": {},
   "source": [
    "# Apply a kernel\n",
    " \n",
    "- Identity filter\n",
    " \n",
    "stride=1 which preserves original image sizes."
   ]
  },
  {
   "cell_type": "code",
   "execution_count": 4,
   "metadata": {},
   "outputs": [],
   "source": [
    "conv = nn.ConvTranspose2d(1, 1, kernel_size=3, stride=1, padding=1, bias=False)\n",
    "\n",
    "kernel = np.array([[\n",
    "    [\n",
    "        [0., 0., 0.],\n",
    "        [0., 1., 0.],\n",
    "        [0., 0., 0.]\n",
    "    ]\n",
    "]])\n",
    "\n",
    "conv.weight = Parameter(torch.from_numpy(kernel).float(), requires_grad=False)"
   ]
  },
  {
   "cell_type": "code",
   "execution_count": 5,
   "metadata": {},
   "outputs": [],
   "source": [
    "im_tensor = transforms.ToTensor()(im).unsqueeze(0)\n",
    "convolved_im_tensor = conv.forward(im_tensor)"
   ]
  },
  {
   "cell_type": "code",
   "execution_count": 6,
   "metadata": {},
   "outputs": [],
   "source": [
    "convolved_im = convolved_im_tensor.cpu().squeeze(0)\n",
    "im1 = transforms.ToPILImage()(convolved_im)"
   ]
  },
  {
   "cell_type": "code",
   "execution_count": 7,
   "metadata": {},
   "outputs": [
    {
     "data": {
      "image/png": "[encoded data removed]",
      "text/plain": [
       "<PIL.Image.Image image mode=L size=128x128 at 0x7F80DAC42EE0>"
      ]
     },
     "execution_count": 7,
     "metadata": {},
     "output_type": "execute_result"
    }
   ],
   "source": [
    "im1"
   ]
  },
  {
   "cell_type": "markdown",
   "metadata": {},
   "source": [
    " # Next, apply kernels\n",
    " \n",
    " - Laplacian filter\n",
    " - Identity filter\n",
    " \n",
    " stride=2 which increases image sizes.\n",
    " \n",
    " dilation=1"
   ]
  },
  {
   "cell_type": "code",
   "execution_count": 8,
   "metadata": {},
   "outputs": [],
   "source": [
    "conv = nn.ConvTranspose2d(1, 1, kernel_size=3, stride=2, padding=1, bias=False)\n",
    "\n",
    "kernel = np.array([[\n",
    "    [\n",
    "        [1.,  1., 1.],\n",
    "        [1., -8., 1.],\n",
    "        [1.,  1., 1.]\n",
    "    ],\n",
    "    [\n",
    "        [0., 0., 0.],\n",
    "        [0., 1., 0.],\n",
    "        [0., 0., 0.]\n",
    "    ]\n",
    "]])\n",
    "\n",
    "conv.weight = Parameter(torch.from_numpy(kernel).float(), requires_grad=False)"
   ]
  },
  {
   "cell_type": "code",
   "execution_count": 9,
   "metadata": {},
   "outputs": [],
   "source": [
    "im_tensor = transforms.ToTensor()(im).unsqueeze(0)\n",
    "convolved_im_tensor = conv.forward(im_tensor)"
   ]
  },
  {
   "cell_type": "code",
   "execution_count": 10,
   "metadata": {},
   "outputs": [],
   "source": [
    "convolved_im = convolved_im_tensor.cpu().squeeze(0)\n",
    "im2 = transforms.ToPILImage()(convolved_im[0])\n",
    "im3 = transforms.ToPILImage()(convolved_im[1])"
   ]
  },
  {
   "cell_type": "code",
   "execution_count": 11,
   "metadata": {},
   "outputs": [
    {
     "data": {
      "image/png": "[encoded data removed]",
      "text/plain": [
       "<PIL.Image.Image image mode=L size=255x255 at 0x7F80DAC425E0>"
      ]
     },
     "execution_count": 11,
     "metadata": {},
     "output_type": "execute_result"
    }
   ],
   "source": [
    "im2"
   ]
  },
  {
   "cell_type": "code",
   "execution_count": 12,
   "metadata": {},
   "outputs": [
    {
     "data": {
      "image/png": "[encoded data removed]",
      "text/plain": [
       "<PIL.Image.Image image mode=L size=255x255 at 0x7F80DB4290A0>"
      ]
     },
     "execution_count": 12,
     "metadata": {},
     "output_type": "execute_result"
    }
   ],
   "source": [
    "im3"
   ]
  },
  {
   "cell_type": "markdown",
   "metadata": {},
   "source": [
    "dilation=2\n",
    "\n",
    "which should recover the Laplacian filter to a small degree."
   ]
  },
  {
   "cell_type": "code",
   "execution_count": 13,
   "metadata": {},
   "outputs": [],
   "source": [
    "conv = nn.ConvTranspose2d(1, 1, kernel_size=3, stride=2, padding=1, bias=False, dilation=2)\n",
    "conv.weight = Parameter(torch.from_numpy(kernel).float(), requires_grad=False)"
   ]
  },
  {
   "cell_type": "code",
   "execution_count": 14,
   "metadata": {},
   "outputs": [],
   "source": [
    "im_tensor = transforms.ToTensor()(im).unsqueeze(0)\n",
    "convolved_im = conv.forward(im_tensor).cpu().squeeze(0)\n",
    "im4 = transforms.ToPILImage()(convolved_im[0])\n",
    "im5 = transforms.ToPILImage()(convolved_im[1])"
   ]
  },
  {
   "cell_type": "code",
   "execution_count": 15,
   "metadata": {},
   "outputs": [
    {
     "data": {
      "image/png": "[encoded data removed]",
      "text/plain": [
       "<PIL.Image.Image image mode=L size=257x257 at 0x7F80DB429310>"
      ]
     },
     "execution_count": 15,
     "metadata": {},
     "output_type": "execute_result"
    }
   ],
   "source": [
    "im4"
   ]
  },
  {
   "cell_type": "code",
   "execution_count": 16,
   "metadata": {},
   "outputs": [
    {
     "data": {
      "image/png": "[encoded data removed]",
      "text/plain": [
       "<PIL.Image.Image image mode=L size=257x257 at 0x7F80DB429190>"
      ]
     },
     "execution_count": 16,
     "metadata": {},
     "output_type": "execute_result"
    }
   ],
   "source": [
    "im5"
   ]
  }
 ],
 "metadata": {
  "kernelspec": {
   "display_name": "Python 3",
   "language": "python",
   "name": "python3"
  },
  "language_info": {
   "codemirror_mode": {
    "name": "ipython",
    "version": 3
   },
   "file_extension": ".py",
   "mimetype": "text/x-python",
   "name": "python",
   "nbconvert_exporter": "python",
   "pygments_lexer": "ipython3",
   "version": "3.8.7"
  }
 },
 "nbformat": 4,
 "nbformat_minor": 5
}
