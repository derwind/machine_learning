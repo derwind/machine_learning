{
 "cells": [
  {
   "cell_type": "code",
   "execution_count": null,
   "metadata": {},
   "outputs": [],
   "source": [
    "import torch\n",
    "import torch.nn as nn\n",
    "import torch.optim as optim\n",
    "import pytorch_lightning as pl\n",
    "import numpy as np"
   ]
  },
  {
   "cell_type": "code",
   "execution_count": null,
   "metadata": {},
   "outputs": [],
   "source": [
    "class CelsiusFahrenheitModel(pl.LightningModule):\n",
    "\n",
    "    def __init__(self, batch_size=32):\n",
    "        super(CelsiusFahrenheitModel, self).__init__()\n",
    "        self.model = self.get_model()\n",
    "        self.criterion = self.get_criterion()\n",
    "\n",
    "        self.batch_size = batch_size\n",
    "\n",
    "    def get_model(self): \n",
    "        return nn.Sequential(nn.Linear(1, 1))\n",
    "\n",
    "    def get_criterion(self):\n",
    "        return nn.MSELoss()    \n",
    "\n",
    "    def get_optimizer(self):\n",
    "        return optim.Adam(self.model.parameters(), lr=0.1)  \n",
    "\n",
    "    def forward(self, x):\n",
    "        # called with self(x)\n",
    "        return self.model(x)\n",
    "\n",
    "    def training_step(self, batch, batch_nb):\n",
    "        # REQUIRED\n",
    "        x, y = batch\n",
    "        y_hat = self(x)\n",
    "        loss = self.criterion(y_hat, y)\n",
    "        return {'loss': loss}\n",
    "\n",
    "    def validation_step(self, batch, batch_nb):\n",
    "        # OPTIONAL\n",
    "        x, y = batch\n",
    "        y_hat = self(x)\n",
    "        loss = self.criterion(y_hat, y)\n",
    "        return {'val_loss': loss}\n",
    "\n",
    "    def validation_epoch_end(self, outputs):\n",
    "        # OPTIONAL\n",
    "        avg_loss = torch.stack([x['val_loss'] for x in outputs]).mean()\n",
    "        return {'val_loss': avg_loss}\n",
    "\n",
    "    def configure_optimizers(self):\n",
    "        # REQUIRED\n",
    "        return self.get_optimizer()\n",
    "\n",
    "    def prepare_data(self) -> None:\n",
    "        X = np.arange(-100, 100, 0.1)\n",
    "        y = np.array([x*9/5+32 for x in X])\n",
    "\n",
    "        X_train = torch.from_numpy(X.reshape(-1,1)).float()\n",
    "        y_train = torch.from_numpy(y.reshape(-1,1)).float()\n",
    "        trainset = torch.utils.data.TensorDataset(X_train, y_train)\n",
    "        valsize = int(len(trainset)*.2)\n",
    "        self.trainset, self.valset = torch.utils.data.random_split(trainset, [len(trainset)-valsize, valsize])\n",
    "\n",
    "    def train_dataloader(self):\n",
    "        # REQUIRED\n",
    "        return torch.utils.data.DataLoader(self.trainset, batch_size=self.batch_size, shuffle=True)\n",
    "\n",
    "    def val_dataloader(self):\n",
    "        # OPTIONAL\n",
    "        return torch.utils.data.DataLoader(self.valset, batch_size=self.batch_size)"
   ]
  },
  {
   "cell_type": "code",
   "execution_count": null,
   "metadata": {},
   "outputs": [],
   "source": [
    "num_epochs = 20\n",
    "\n",
    "cf_model = CelsiusFahrenheitModel()\n",
    "\n",
    "trainer = pl.Trainer(gpus=1, early_stop_callback=True, max_nb_epochs=num_epochs)    \n",
    "trainer.fit(cf_model)\n",
    "trainer.callback_metrics"
   ]
  },
  {
   "cell_type": "code",
   "execution_count": null,
   "metadata": {},
   "outputs": [],
   "source": [
    "for name, param in cf_model.model.named_parameters():\n",
    "    print(name, param)"
   ]
  }
 ],
 "metadata": {
  "kernelspec": {
   "display_name": "Python 3",
   "language": "python",
   "name": "python3"
  },
  "language_info": {
   "codemirror_mode": {
    "name": "ipython",
    "version": 3
   },
   "file_extension": ".py",
   "mimetype": "text/x-python",
   "name": "python",
   "nbconvert_exporter": "python",
   "pygments_lexer": "ipython3",
   "version": "3.7.7"
  }
 },
 "nbformat": 4,
 "nbformat_minor": 4
}
