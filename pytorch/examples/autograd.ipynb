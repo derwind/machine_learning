{
 "cells": [
  {
   "cell_type": "markdown",
   "id": "healthy-bracket",
   "metadata": {},
   "source": [
    "# Demos of some calculations"
   ]
  },
  {
   "cell_type": "code",
   "execution_count": 1,
   "id": "legal-friendly",
   "metadata": {},
   "outputs": [
    {
     "data": {
      "text/plain": [
       "True"
      ]
     },
     "execution_count": 1,
     "metadata": {},
     "output_type": "execute_result"
    }
   ],
   "source": [
    "import torch\n",
    "import numpy as np\n",
    "torch.cuda.is_available()"
   ]
  },
  {
   "cell_type": "markdown",
   "id": "confidential-junior",
   "metadata": {},
   "source": [
    "Set $x = 3$. Then differentiate $x$. The expected result is:\n",
    "\n",
    "\\begin{align*}\n",
    "\\frac{\\partial x}{\\partial x}\\Big|_{x=3} = 1\n",
    "\\end{align*}"
   ]
  },
  {
   "cell_type": "code",
   "execution_count": 2,
   "id": "worse-referral",
   "metadata": {},
   "outputs": [
    {
     "name": "stdout",
     "output_type": "stream",
     "text": [
      "tensor(3., requires_grad=True) tensor(1.)\n",
      "tensor(3., requires_grad=True) tensor(1.)\n"
     ]
    }
   ],
   "source": [
    "x = torch.tensor(3., requires_grad = True)\n",
    "x.backward()\n",
    "print(x, x.grad)\n",
    "\n",
    "x.grad = None\n",
    "y = x\n",
    "y.backward()\n",
    "print(y, y.grad)"
   ]
  },
  {
   "cell_type": "markdown",
   "id": "suitable-gibraltar",
   "metadata": {},
   "source": [
    "Execute several calculations and see the results.\n",
    "\n",
    "- $y = x^2$: In this case the expected result is:\n",
    "\\begin{align*}\n",
    "\\frac{\\partial y}{\\partial x}\\Big|_{x=3} = \\frac{\\partial x^2}{\\partial x}\\Big|_{x=3} = 2x\\big|_{x=3} = 6\n",
    "\\end{align*}\n",
    "\n",
    "- $y = x^2 + x^3$: In this case the expected result is:\n",
    "\\begin{align*}\n",
    "\\frac{\\partial y}{\\partial x}\\Big|_{x=3} = \\left(\\frac{\\partial x^2}{\\partial x} + \\frac{\\partial x^3}{\\partial x}\\right)\\Bigg|_{x=3} = (2x + 3x^2)\\big|_{x=3} = 33\n",
    "\\end{align*}"
   ]
  },
  {
   "cell_type": "code",
   "execution_count": 3,
   "id": "alive-communist",
   "metadata": {},
   "outputs": [
    {
     "name": "stdout",
     "output_type": "stream",
     "text": [
      "tensor(9., grad_fn=<PowBackward0>) tensor(6.)\n",
      "tensor(36., grad_fn=<AddBackward0>) tensor(33.)\n"
     ]
    }
   ],
   "source": [
    "x = torch.tensor(3., requires_grad = True)\n",
    "y = x**2\n",
    "y.backward()\n",
    "print(y, x.grad)\n",
    "\n",
    "x.grad = None\n",
    "y = x**2 + x**3\n",
    "y.backward()\n",
    "print(y, x.grad)"
   ]
  },
  {
   "cell_type": "markdown",
   "id": "unlikely-complexity",
   "metadata": {},
   "source": [
    "## A little complicated functions\n",
    "\n",
    "So-called *sigmoid function* is defined as $\\varsigma(x) = \\frac{1}{1 + \\exp(-x)}$. Its derivative is calculated as $\\varsigma^\\prime(x) = \\frac{\\exp(-x)}{(1 + \\exp(-x))^2}$.\n",
    "\n",
    "The *hyperbolic tangent function* is defined as $\\tanh(x) = \\frac{\\exp(x) - \\exp(-x)}{\\exp(x) + \\exp(-x)}$ and its derivative is $\\tanh^\\prime(x) = \\frac{4}{(\\exp(x) + \\exp(-x))^2}$.\n",
    "\n",
    "Then set $y = \\varsigma(x^2) + \\tanh(x^3)$ and differentiate it using the chain rule:\n",
    "\n",
    "\\begin{align*}\n",
    "\\frac{\\partial y}{\\partial x} \\Big|_{x=3} &= \\varsigma^\\prime(x^2)\\cdot (2x)\\Big|_{x=3} + \\tanh^\\prime(x^3)\\cdot (3x^2)\\Big|_{x=3} \\\\\n",
    "&= \\frac{\\exp(-x^2)}{(1 + \\exp(-x^2))^2}\\cdot (2x)\\Big|_{x=3} + \\frac{4}{(\\exp(x^3) + \\exp(-x^3))^2}\\cdot (3x^2)\\Big|_{x=3} \\simeq 0.00074\n",
    "\\end{align*}"
   ]
  },
  {
   "cell_type": "code",
   "execution_count": 4,
   "id": "olympic-exhibit",
   "metadata": {},
   "outputs": [
    {
     "name": "stdout",
     "output_type": "stream",
     "text": [
      "1.9998766054240136 0.0007402760985890935 0.0007402770232367573\n"
     ]
    }
   ],
   "source": [
    "# validation by numpy\n",
    "\n",
    "sigmoid = lambda x: 1/(1 + np.exp(-x))\n",
    "sigmoid_prime = lambda x: np.exp(-x)/(1 + np.exp(-x))**2\n",
    "tanh = lambda x: (np.exp(x) - np.exp(-x))/(np.exp(x) + np.exp(-x))\n",
    "tanh_prime = lambda x: 4/(np.exp(x) + np.exp(-x))**2\n",
    "\n",
    "f = lambda x: sigmoid(x**2) + tanh(x**3)\n",
    "\n",
    "y = f(3)\n",
    "\n",
    "# direct calculation\n",
    "y_prime = sigmoid_prime(3**2) * (2*3) + tanh_prime(3**3) * (3 * 3**2)\n",
    "\n",
    "# numerical approximation\n",
    "y_prime_approx = (f(3.0005) - f(2.9995))/.001\n",
    "\n",
    "print(y, y_prime, y_prime_approx)"
   ]
  },
  {
   "cell_type": "code",
   "execution_count": 5,
   "id": "raising-gallery",
   "metadata": {},
   "outputs": [
    {
     "name": "stdout",
     "output_type": "stream",
     "text": [
      "tensor(1.9999, grad_fn=<AddBackward0>) tensor(0.0007)\n"
     ]
    }
   ],
   "source": [
    "x = torch.tensor(3., requires_grad = True)\n",
    "y = torch.sigmoid(x**2) + torch.tanh(x**3)\n",
    "y.backward()\n",
    "print(y, x.grad)"
   ]
  },
  {
   "cell_type": "markdown",
   "id": "intermediate-solution",
   "metadata": {},
   "source": [
    "## multiple variables\n",
    "\n",
    "Set $x=3$ and $z = 2$. Then we consider $y = \\varsigma(x^2 + z) + \\tanh(x^3 z^2)$. In this case its partial derivatives are calculated as:\n",
    "\n",
    "\\begin{align*}\n",
    "\\frac{\\partial y}{\\partial x} \\Big|_{x=3\\\\z=2} &= \\varsigma^\\prime(x^2 + z)\\cdot (2x)\\Big|_{x=3\\\\z=2} + \\tanh^\\prime(x^3 z^2)\\cdot (3x^2 z^2)\\Big|_{x=3\\\\z=2} \\\\\n",
    "&= \\frac{\\exp(-(x^2 + z))}{(1 + \\exp(-(x^2 + z)))^2}\\cdot (2x)\\Big|_{x=3\\\\z=2} + \\frac{4}{(\\exp(x^3 z^2) + \\exp(-x^3 z^2))^2}\\cdot (3x^2 z^2)\\Big|_{x=3\\\\z=2} \\\\\n",
    "&\\simeq 0.0001002 \\\\\n",
    "\\frac{\\partial y}{\\partial z} \\Big|_{x=3\\\\z=2} &= \\varsigma^\\prime(x^2 + z)\\cdot 1\\Big|_{x=3\\\\z=2} + \\tanh^\\prime(x^3 z^2)\\cdot (2x^3 z)\\Big|_{x=3\\\\z=2} \\\\\n",
    "&= \\frac{\\exp(-(x^2 + z))}{(1 + \\exp(-(x^2 + z)))^2}\\Big|_{x=3\\\\z=2} + \\frac{4}{(\\exp(x^3 z^2) + \\exp(-x^3 z^2))^2}\\cdot (2x^3 z)\\Big|_{x=3\\\\z=2} \\\\\n",
    "&\\simeq 0.0000167\n",
    "\\end{align*}"
   ]
  },
  {
   "cell_type": "code",
   "execution_count": 6,
   "id": "aquatic-marina",
   "metadata": {},
   "outputs": [
    {
     "name": "stdout",
     "output_type": "stream",
     "text": [
      "1.999983298578152 0.0001002068574636206 1.6701142910603434e-05\n"
     ]
    }
   ],
   "source": [
    "# validation by numpy\n",
    "\n",
    "y = sigmoid(3**2 + 2) + tanh(3**3 * 2**2)\n",
    "\n",
    "# direct calculation\n",
    "y_prime_x = sigmoid_prime(3**2 + 2) * (2*3) + \\\n",
    "    tanh_prime(3**3 * 2**2) * (3 * 3**2 * 2**2)\n",
    "\n",
    "y_prime_z = sigmoid_prime(3**2 + 2) + \\\n",
    "    tanh_prime(3**3 * 2**2) * (2 * 3**3 * 2)\n",
    "\n",
    "print(y, y_prime_x, y_prime_z)"
   ]
  },
  {
   "cell_type": "code",
   "execution_count": 7,
   "id": "complimentary-track",
   "metadata": {},
   "outputs": [
    {
     "name": "stdout",
     "output_type": "stream",
     "text": [
      "tensor(2.0000, grad_fn=<AddBackward0>) tensor(0.0001) tensor(1.6689e-05)\n"
     ]
    }
   ],
   "source": [
    "x = torch.tensor(3., requires_grad = True)\n",
    "z = torch.tensor(2., requires_grad = True)\n",
    "y = torch.sigmoid(x**2 + z) + torch.tanh(x**3 * z**2)\n",
    "y.backward()\n",
    "print(y, x.grad, z.grad)"
   ]
  },
  {
   "cell_type": "markdown",
   "id": "hungry-express",
   "metadata": {},
   "source": [
    "## skip-connection\n",
    "\n",
    "Set $x=3$. Then we consider $y = \\tanh(x + \\varsigma(x^2))$. In this case its partial derivatives are calculated as:\n",
    "\n",
    "\\begin{align*}\n",
    "\\frac{\\partial y}{\\partial x} &= \\tanh^\\prime(x + \\varsigma(x^2))\\cdot (1 + \\varsigma^\\prime (x^2) \\cdot (2x)) \\Big|_{x=3} \\\\\n",
    "&= \\frac{4}{(\\exp(x + \\varsigma(x^2)) + \\exp(-(x + \\varsigma(x^2))))^2}\\cdot \\left( 1 + \\frac{\\exp(-x^2)}{(1 + \\exp(-x^2))^2} \\cdot (2x) \\right) \\Bigg|_{x=3} \\\\\n",
    "&\\simeq 0.00134\n",
    "\\end{align*}"
   ]
  },
  {
   "cell_type": "code",
   "execution_count": 8,
   "id": "present-headline",
   "metadata": {},
   "outputs": [
    {
     "name": "stdout",
     "output_type": "stream",
     "text": [
      "0.9993291342526205 0.0013422743524949985\n"
     ]
    }
   ],
   "source": [
    "# validation by numpy\n",
    "\n",
    "y = tanh(3 + sigmoid(3**2))\n",
    "\n",
    "# direct calculation\n",
    "y_prime = tanh_prime(3 + sigmoid(3**2)) * (1 + sigmoid_prime(3**2) * (2*3))\n",
    "\n",
    "print(y, y_prime)"
   ]
  },
  {
   "cell_type": "code",
   "execution_count": 9,
   "id": "charming-magnitude",
   "metadata": {},
   "outputs": [
    {
     "name": "stdout",
     "output_type": "stream",
     "text": [
      "tensor(0.9993, grad_fn=<TanhBackward>) tensor(0.0013)\n"
     ]
    }
   ],
   "source": [
    "x = torch.tensor(3., requires_grad = True)\n",
    "y = torch.tanh(x + torch.sigmoid(x**2))\n",
    "y.backward()\n",
    "print(y, x.grad)"
   ]
  }
 ],
 "metadata": {
  "kernelspec": {
   "display_name": "Python 3",
   "language": "python",
   "name": "python3"
  },
  "language_info": {
   "codemirror_mode": {
    "name": "ipython",
    "version": 3
   },
   "file_extension": ".py",
   "mimetype": "text/x-python",
   "name": "python",
   "nbconvert_exporter": "python",
   "pygments_lexer": "ipython3",
   "version": "3.8.7"
  }
 },
 "nbformat": 4,
 "nbformat_minor": 5
}
