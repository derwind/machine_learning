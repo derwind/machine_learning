{
 "cells": [
  {
   "cell_type": "markdown",
   "id": "upset-meaning",
   "metadata": {},
   "source": [
    "# Demos of some calculations"
   ]
  },
  {
   "cell_type": "code",
   "execution_count": 1,
   "id": "mechanical-province",
   "metadata": {},
   "outputs": [
    {
     "data": {
      "text/plain": [
       "True"
      ]
     },
     "execution_count": 1,
     "metadata": {},
     "output_type": "execute_result"
    }
   ],
   "source": [
    "import torch\n",
    "import numpy as np\n",
    "torch.cuda.is_available()"
   ]
  },
  {
   "cell_type": "markdown",
   "id": "collectible-priest",
   "metadata": {},
   "source": [
    "Set $x = 3$. Then differentiate $x$. The expected result is:\n",
    "\n",
    "\\begin{align}\n",
    "\\frac{\\partial x}{\\partial x}\\Big|_{x=3} = 1\n",
    "\\end{align}"
   ]
  },
  {
   "cell_type": "code",
   "execution_count": 2,
   "id": "growing-performance",
   "metadata": {},
   "outputs": [
    {
     "name": "stdout",
     "output_type": "stream",
     "text": [
      "tensor(3., requires_grad=True) tensor(1.)\n",
      "tensor(3., requires_grad=True) tensor(1.)\n"
     ]
    }
   ],
   "source": [
    "x = torch.tensor(3., requires_grad = True)\n",
    "x.backward()\n",
    "print(x, x.grad)\n",
    "\n",
    "x.grad = None\n",
    "y = x\n",
    "y.backward()\n",
    "print(y, y.grad)"
   ]
  },
  {
   "cell_type": "markdown",
   "id": "compact-trailer",
   "metadata": {},
   "source": [
    "Execute several calculations and see the results.\n",
    "\n",
    "- $y = x^2$: In this case the expected result is:\n",
    "\\begin{align}\n",
    "\\frac{\\partial y}{\\partial x}\\Big|_{x=3} = \\frac{\\partial x^2}{\\partial x}\\Big|_{x=3} = 2x\\big|_{x=3} = 6\n",
    "\\end{align}\n",
    "\n",
    "- $y = x^2 + x^3$: In this case the expected result is:\n",
    "\\begin{align}\n",
    "\\frac{\\partial y}{\\partial x}\\Big|_{x=3} = \\left(\\frac{\\partial x^2}{\\partial x} + \\frac{\\partial x^3}{\\partial x}\\right)\\Bigg|_{x=3} = (2x + 3x^2)\\big|_{x=3} = 33\n",
    "\\end{align}"
   ]
  },
  {
   "cell_type": "code",
   "execution_count": 3,
   "id": "mighty-prediction",
   "metadata": {},
   "outputs": [
    {
     "name": "stdout",
     "output_type": "stream",
     "text": [
      "tensor(9., grad_fn=<PowBackward0>) tensor(6.)\n",
      "tensor(36., grad_fn=<AddBackward0>) tensor(33.)\n"
     ]
    }
   ],
   "source": [
    "x = torch.tensor(3., requires_grad = True)\n",
    "y = x**2\n",
    "y.backward()\n",
    "print(y, x.grad)\n",
    "\n",
    "x.grad = None\n",
    "y = x**2 + x**3\n",
    "y.backward()\n",
    "print(y, x.grad)"
   ]
  },
  {
   "cell_type": "markdown",
   "id": "rubber-uniform",
   "metadata": {},
   "source": [
    "## A little complicated functions\n",
    "\n",
    "So-called *sigmoid function* is defined as $\\varsigma(x) = \\frac{1}{1 + \\exp(-x)}$. Its derivative is calculated as $\\varsigma^\\prime(x) = \\frac{\\exp(-x)}{(1 + \\exp(-x))^2}$.\n",
    "\n",
    "The *hyperbolic tangent function* is defined as $\\tanh(x) = \\frac{\\exp(x) - \\exp(-x)}{\\exp(x) + \\exp(-x)}$ and its derivative is $\\tanh^\\prime(x) = \\frac{4}{(\\exp(x) + \\exp(-x))^2}$.\n",
    "\n",
    "Then set $y = \\varsigma(x^2) + \\tanh(x^3)$ and differentiate it using the chain rule:\n",
    "\n",
    "\\begin{align}\n",
    "\\frac{\\partial y}{\\partial x} \\Big|_{x=3} &= \\varsigma^\\prime(x^2)\\cdot (2x)\\Big|_{x=3} + \\tanh^\\prime(x^3)\\cdot (3x^2)\\Big|_{x=3} \\\\\n",
    "&= \\frac{\\exp(-x^2)}{(1 + \\exp(-x^2))^2}\\cdot (2x)\\Big|_{x=3} + \\frac{4}{(\\exp(x^3) + \\exp(-x^3))^2}\\cdot (3x^2)\\Big|_{x=3} \\simeq 0.00074\n",
    "\\end{align}"
   ]
  },
  {
   "cell_type": "code",
   "execution_count": 4,
   "id": "abroad-meditation",
   "metadata": {},
   "outputs": [
    {
     "name": "stdout",
     "output_type": "stream",
     "text": [
      "1.9998766054240136 0.0007402760985890935 0.0007381828917019106\n"
     ]
    }
   ],
   "source": [
    "# validation by numpy\n",
    "\n",
    "y = 1/(1 + np.exp(-3**2)) + \\\n",
    "    (np.exp(3**3) - np.exp(-3**3))/(np.exp(3**3) + np.exp(-3**3))\n",
    "\n",
    "# direct calculation\n",
    "y_prime = np.exp(-3**2)/(1 + np.exp(-3**2))**2 * (2*3) + \\\n",
    "          4/(np.exp(3**3) + np.exp(-3**3))**2 * (3 * 3**2)\n",
    "\n",
    "# numerical approximation\n",
    "y_plus_delta = 1/(1 + np.exp(-3.001**2)) + \\\n",
    "    (np.exp(3.001**3) - np.exp(-3.001**3))/(np.exp(3.001**3) + \\\n",
    "                                            np.exp(-3.001**3))\n",
    "y_prime_approx = (y_plus_delta - y)/.001\n",
    "\n",
    "print(y, y_prime, y_prime_approx)"
   ]
  },
  {
   "cell_type": "code",
   "execution_count": 5,
   "id": "worse-august",
   "metadata": {},
   "outputs": [
    {
     "name": "stdout",
     "output_type": "stream",
     "text": [
      "tensor(1.9999, grad_fn=<AddBackward0>) tensor(0.0007)\n"
     ]
    }
   ],
   "source": [
    "x = torch.tensor(3., requires_grad = True)\n",
    "y = torch.sigmoid(x**2) + torch.tanh(x**3)\n",
    "y.backward()\n",
    "print(y, x.grad)"
   ]
  },
  {
   "cell_type": "markdown",
   "id": "quiet-battle",
   "metadata": {},
   "source": [
    "## multiple variables\n",
    "\n",
    "Set $x=3$ and $z = 2$. Then we consider $y = \\varsigma(x^2 + z) + \\tanh(x^3 z^2)$. In this case its partial derivatives are calculated as:\n",
    "\n",
    "\\begin{align}\n",
    "\\frac{\\partial y}{\\partial x} \\Big|_{x=3\\\\z=2} &= \\varsigma^\\prime(x^2 + z)\\cdot (2x)\\Big|_{x=3\\\\z=2} + \\tanh^\\prime(x^3 z^2)\\cdot (3x^2 z^2)\\Big|_{x=3\\\\z=2} \\\\\n",
    "&= \\frac{\\exp(-(x^2 + z))}{(1 + \\exp(-(x^2 + z)))^2}\\cdot (2x)\\Big|_{x=3\\\\z=2} + \\frac{4}{(\\exp(x^3 z^2) + \\exp(-x^3 z^2))^2}\\cdot (3x^2 z^2)\\Big|_{x=3\\\\z=2} \\\\\n",
    "&\\simeq 0.0001\n",
    "\\end{align}"
   ]
  },
  {
   "cell_type": "code",
   "execution_count": 6,
   "id": "fitted-yeast",
   "metadata": {},
   "outputs": [
    {
     "name": "stdout",
     "output_type": "stream",
     "text": [
      "1.999983298578152 0.0001002068574636206\n"
     ]
    }
   ],
   "source": [
    "# validation by numpy\n",
    "\n",
    "y = 1/(1 + np.exp(-(3**2 + 2))) + \\\n",
    "    (np.exp(3**3 * 2**2) - np.exp(-3**3 * 2**2))/(np.exp(3**3 * 2**2) + \\\n",
    "                                                  np.exp(-3**3 * 2**2))\n",
    "\n",
    "# direct calculation\n",
    "y_prime = \\\n",
    "    np.exp(-(3**2 + 2))/(1 + np.exp(-(3**2 + 2)))**2 * (2*3) + \\\n",
    "    4/(np.exp(3**3 * 2**2) + np.exp(-3**3 * 2**2))**2 * (3 * 3**2 * 2**2)\n",
    "\n",
    "print(y, y_prime)"
   ]
  },
  {
   "cell_type": "code",
   "execution_count": 7,
   "id": "horizontal-hours",
   "metadata": {},
   "outputs": [
    {
     "name": "stdout",
     "output_type": "stream",
     "text": [
      "tensor(2.0000, grad_fn=<AddBackward0>) tensor(0.0001)\n"
     ]
    }
   ],
   "source": [
    "x = torch.tensor(3., requires_grad = True)\n",
    "z = torch.tensor(2., requires_grad = True)\n",
    "y = torch.sigmoid(x**2 + z) + torch.tanh(x**3 * z**2)\n",
    "y.backward()\n",
    "print(y, x.grad)"
   ]
  }
 ],
 "metadata": {
  "kernelspec": {
   "display_name": "Python 3",
   "language": "python",
   "name": "python3"
  },
  "language_info": {
   "codemirror_mode": {
    "name": "ipython",
    "version": 3
   },
   "file_extension": ".py",
   "mimetype": "text/x-python",
   "name": "python",
   "nbconvert_exporter": "python",
   "pygments_lexer": "ipython3",
   "version": "3.8.7"
  }
 },
 "nbformat": 4,
 "nbformat_minor": 5
}
