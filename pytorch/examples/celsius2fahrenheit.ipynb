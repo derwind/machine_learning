{
 "cells": [
  {
   "cell_type": "code",
   "execution_count": null,
   "metadata": {},
   "outputs": [],
   "source": [
    "import torch\n",
    "import torch.nn as nn\n",
    "import torch.optim as optim\n",
    "from tqdm import tqdm\n",
    "import numpy as np"
   ]
  },
  {
   "cell_type": "code",
   "execution_count": null,
   "metadata": {},
   "outputs": [],
   "source": [
    "device = torch.device(\"cuda\" if torch.cuda.is_available() else \"cpu\")\n",
    "device"
   ]
  },
  {
   "cell_type": "code",
   "execution_count": null,
   "metadata": {},
   "outputs": [],
   "source": [
    "X = np.arange(-100, 100, 0.1)\n",
    "y = np.array([x*9/5+32 for x in X])\n",
    "print(f\"X.shape={X.shape}, y.shape={y.shape}\")\n",
    "\n",
    "X_train = torch.from_numpy(X.reshape(-1,1)).float()\n",
    "y_train = torch.from_numpy(y.reshape(-1,1)).float()\n",
    "trainset = torch.utils.data.TensorDataset(X_train, y_train)\n",
    "valsize = int(len(trainset)*.2)\n",
    "trainset, valset = torch.utils.data.random_split(trainset, [len(trainset)-valsize, valsize])\n",
    "print(len(trainset), len(valset))"
   ]
  },
  {
   "cell_type": "code",
   "execution_count": null,
   "metadata": {},
   "outputs": [],
   "source": [
    "BATCH_SIZE = 32\n",
    "\n",
    "trainloader = torch.utils.data.DataLoader(trainset, batch_size=BATCH_SIZE, shuffle=True)\n",
    "valloader = torch.utils.data.DataLoader(valset, batch_size=BATCH_SIZE)"
   ]
  },
  {
   "cell_type": "code",
   "execution_count": null,
   "metadata": {},
   "outputs": [],
   "source": [
    "xs, ys = next(iter(trainloader))\n",
    "print(xs.shape, ys.shape)"
   ]
  },
  {
   "cell_type": "code",
   "execution_count": null,
   "metadata": {},
   "outputs": [],
   "source": [
    "model = nn.Sequential(nn.Linear(1, 1)).to(device)\n",
    "for name, param in model.named_parameters():\n",
    "    print(name, param)"
   ]
  },
  {
   "cell_type": "code",
   "execution_count": null,
   "metadata": {},
   "outputs": [],
   "source": [
    "criterion = nn.MSELoss()\n",
    "optimizer = optim.Adam(model.parameters(), lr=0.1)"
   ]
  },
  {
   "cell_type": "code",
   "execution_count": null,
   "metadata": {},
   "outputs": [],
   "source": [
    "def train(model, dataloaders:dict, otpimizer, criterion, num_epochs:int, device):\n",
    "    for epoch in range(1, num_epochs+1):\n",
    "        for phase in [\"train\", \"val\"]:\n",
    "            if phase == \"train\":\n",
    "                model.train()\n",
    "            elif phase == \"val\":\n",
    "                model.eval()\n",
    "\n",
    "            with torch.set_grad_enabled(phase == \"train\"), tqdm(total=len(dataloaders[phase]), unit=\"batch\") as pbar:\n",
    "                loss_sum = 0\n",
    "                total = 0\n",
    "                pbar.set_description(f\"Epoch[{epoch}/{num_epochs}]({phase})\")\n",
    "                for batch_idx, (xs, ys) in enumerate(dataloaders[phase]):\n",
    "                    xs, ys = xs.to(device), ys.to(device)\n",
    "                    optimizer.zero_grad()\n",
    "                    output = model(xs)\n",
    "                    loss = criterion(output, ys)\n",
    "\n",
    "                    if phase == \"train\":\n",
    "                        loss.backward()\n",
    "                        optimizer.step()\n",
    "\n",
    "                    total += xs.size(0)\n",
    "                    loss_sum += loss.item() * xs.size(0) \n",
    "\n",
    "                    running_loss = loss_sum / total\n",
    "\n",
    "                    pbar.set_postfix({\"loss\":running_loss})\n",
    "                    pbar.update(1)"
   ]
  },
  {
   "cell_type": "code",
   "execution_count": null,
   "metadata": {},
   "outputs": [],
   "source": [
    "dataloaders = {\"train\":trainloader, \"val\":valloader}\n",
    "num_epochs = 20\n",
    "\n",
    "train(model, dataloaders, optimizer, criterion, num_epochs, device)"
   ]
  },
  {
   "cell_type": "code",
   "execution_count": null,
   "metadata": {},
   "outputs": [],
   "source": [
    "for name, param in model.named_parameters():\n",
    "    print(name, param)"
   ]
  }
 ],
 "metadata": {
  "kernelspec": {
   "display_name": "Python 3",
   "language": "python",
   "name": "python3"
  },
  "language_info": {
   "codemirror_mode": {
    "name": "ipython",
    "version": 3
   },
   "file_extension": ".py",
   "mimetype": "text/x-python",
   "name": "python",
   "nbconvert_exporter": "python",
   "pygments_lexer": "ipython3",
   "version": "3.7.7"
  }
 },
 "nbformat": 4,
 "nbformat_minor": 4
}
