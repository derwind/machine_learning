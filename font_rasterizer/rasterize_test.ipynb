{
 "cells": [
  {
   "cell_type": "code",
   "execution_count": null,
   "metadata": {},
   "outputs": [],
   "source": [
    "from matplotlib import pyplot as plt\n",
    "import numpy as np\n",
    "import freetype\n",
    "import cv2"
   ]
  },
  {
   "cell_type": "code",
   "execution_count": null,
   "metadata": {},
   "outputs": [],
   "source": [
    "class Rasterizer(object):\n",
    "    def __init__(self, in_font:str, gids:set, size:int):\n",
    "        self.in_font = in_font\n",
    "        self.gids = gids\n",
    "        self.size = size\n",
    "        self.images = {}\n",
    "\n",
    "    def execute(self, filters=[]):\n",
    "        self.images = {}\n",
    "        face = freetype.Face(self.in_font)\n",
    "        face.set_char_size(self.size*64)\n",
    "        for gid in self.gids:\n",
    "            self.images[gid] = self.rasterize_image(face, gid, filters)\n",
    "\n",
    "        return self.images\n",
    "\n",
    "    def rasterize_image(self, face, gid, filters=[]):\n",
    "        W, H = self.size, self.size\n",
    "        Z = np.zeros( (H, W), dtype=np.ubyte )\n",
    "\n",
    "        face.load_glyph(gid)\n",
    "        bitmap = face.glyph.bitmap\n",
    "        x, y = face.glyph.bitmap_left, face.glyph.bitmap_top\n",
    "        w, h, p = bitmap.width, bitmap.rows, bitmap.pitch\n",
    "        shift = -face.descender * self.size // face.units_per_EM\n",
    "        y += shift\n",
    "\n",
    "        buff = np.array(bitmap.buffer, dtype=np.ubyte).reshape((h,p))\n",
    "        Z[H-y:H-y+h,x:x+w].flat |= buff[:,:w].flatten()\n",
    "        \n",
    "        for filter in filters:\n",
    "            Z = filter(Z)\n",
    "\n",
    "        return Z"
   ]
  },
  {
   "cell_type": "code",
   "execution_count": null,
   "metadata": {},
   "outputs": [],
   "source": [
    "font_path = \"xxxxx\"\n",
    "\n",
    "rasterizer = Rasterizer(font_path, {1125,1126,1127,1128,1129,1130}, 224)\n",
    "images = rasterizer.execute()\n",
    "\n",
    "iterations = 2\n",
    "kernel = np.ones((3,3), np.uint8)\n",
    "gamma = 1.5\n",
    "alpha = 3.0\n",
    "beta = 0.0\n",
    "\n",
    "filters = [\n",
    "    lambda data: cv2.dilate(data, kernel, iterations=iterations),\n",
    "    lambda data: cv2.erode(data, kernel, iterations=iterations),\n",
    "    lambda data: cv2.dilate(data, kernel, iterations=iterations),\n",
    "    lambda data: cv2.erode(data, kernel, iterations=iterations),\n",
    "    #lambda data: ((data/255.0)**(gamma)*255).astype(np.ubyte),\n",
    "    lambda data: np.clip(alpha * data + beta, 0, 255).astype(np.uint8),\n",
    "]\n",
    "\n",
    "rasterizer = Rasterizer(font_path, {1125,1126,1127,1128,1129,1130}, 224)\n",
    "images2 = rasterizer.execute(filters)"
   ]
  },
  {
   "cell_type": "code",
   "execution_count": null,
   "metadata": {},
   "outputs": [],
   "source": [
    "def show_images(images):\n",
    "    row = 1\n",
    "    col = len(images)\n",
    "    plt.figure(figsize=(15,15))\n",
    "\n",
    "    num = 0\n",
    "\n",
    "    while num < row * col:\n",
    "        num += 1\n",
    "        if num > len(images):\n",
    "            break\n",
    "        plt.subplot(row, col, num)\n",
    "        plt.imshow(images[num-1], cmap = \"gray\")\n",
    "        plt.axis('off')"
   ]
  },
  {
   "cell_type": "code",
   "execution_count": null,
   "metadata": {},
   "outputs": [],
   "source": [
    "show_images(list(images.values()))\n",
    "show_images(list(images2.values()))"
   ]
  }
 ],
 "metadata": {
  "kernelspec": {
   "display_name": "Python 3",
   "language": "python",
   "name": "python3"
  },
  "language_info": {
   "codemirror_mode": {
    "name": "ipython",
    "version": 3
   },
   "file_extension": ".py",
   "mimetype": "text/x-python",
   "name": "python",
   "nbconvert_exporter": "python",
   "pygments_lexer": "ipython3",
   "version": "3.6.8"
  }
 },
 "nbformat": 4,
 "nbformat_minor": 4
}
