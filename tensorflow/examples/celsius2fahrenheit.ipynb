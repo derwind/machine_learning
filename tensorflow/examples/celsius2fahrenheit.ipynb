{
 "cells": [
  {
   "cell_type": "markdown",
   "metadata": {},
   "source": [
    "# Determine parameters of Celcius-Fahrenheit converting formula"
   ]
  },
  {
   "cell_type": "markdown",
   "metadata": {},
   "source": [
    "# Answer\n",
    "\n",
    "\\begin{align}\n",
    "F = \\frac{9}{5} C + 32\n",
    "\\end{align}"
   ]
  },
  {
   "cell_type": "code",
   "execution_count": null,
   "metadata": {},
   "outputs": [],
   "source": [
    "import numpy as np\n",
    "import random\n",
    "import matplotlib.pyplot as plt"
   ]
  },
  {
   "cell_type": "markdown",
   "metadata": {},
   "source": [
    "## Generating data with randomness"
   ]
  },
  {
   "cell_type": "code",
   "execution_count": null,
   "metadata": {},
   "outputs": [],
   "source": [
    "X = np.arange(-10, 10, 0.1)\n",
    "y = np.array([x*9/5+32 + random.gauss(0,3) for x in X])"
   ]
  },
  {
   "cell_type": "code",
   "execution_count": null,
   "metadata": {},
   "outputs": [],
   "source": [
    "y_ideal = np.array([x*9/5+32 for x in X])\n",
    "plt.scatter(X,y)\n",
    "plt.plot(X,y_ideal, color=\"red\")\n",
    "plt.show()"
   ]
  },
  {
   "cell_type": "markdown",
   "metadata": {},
   "source": [
    "Consider $\\mathop{\\rm arg~max}\\limits_{\\alpha,\\beta} \\sum_{j=1}^N (y_j - t_j)^2$, where $y_j = \\alpha x_j + \\beta$.\n",
    "\\begin{align}\n",
    "\\frac{\\partial}{\\partial \\alpha} \\sum_{j=1}^N (y_j - t_j)^2 &= \\sum_{j=1}^N 2x_j(\\alpha x_j + \\beta - t_j) = 2\\Big( \\left(\\sum x_j^2\\right) \\alpha + \\left(\\sum x_j\\right) \\beta - \\sum x_j t_j \\Big), \\\\\n",
    "\\frac{\\partial}{\\partial \\beta} \\sum_{j=1}^N (y_j - t_j)^2 &= \\sum_{j=1}^N 2(\\alpha x_j + \\beta - t_j) = 2\\Big( \\left(\\sum x_j\\right) \\alpha + N \\beta - \\sum t_j \\Big).\n",
    "\\end{align}\n",
    "\n",
    "Solving the normal equation, we get $\\alpha = \\frac{\\sum (x_j -\\bar{x})(t_j - \\bar{t})}{\\sum(x_j - \\bar{x})^2},\\ \\beta = \\bar{t} - \\alpha \\bar{x}$, where $\\bar{x} = \\frac{1}{N}\\sum x_j,\\ \\bar{t} = \\frac{1}{N}\\sum t_j$"
   ]
  },
  {
   "cell_type": "markdown",
   "metadata": {},
   "source": [
    "## Verification 1 - Direct Calculation"
   ]
  },
  {
   "cell_type": "code",
   "execution_count": null,
   "metadata": {},
   "outputs": [],
   "source": [
    "X_mean = np.mean(X)\n",
    "y_mean = np.mean(y)\n",
    "alpha = np.sum((X - X_mean)*(y - y_mean))/np.sum((X - X_mean)**2)\n",
    "beta = y_mean - alpha * X_mean\n",
    "\n",
    "print(alpha, beta)\n",
    "print(9/5, 32)"
   ]
  },
  {
   "cell_type": "markdown",
   "metadata": {},
   "source": [
    "## Verification 2 - using scikit-learn"
   ]
  },
  {
   "cell_type": "code",
   "execution_count": null,
   "metadata": {},
   "outputs": [],
   "source": [
    "from sklearn.linear_model import LinearRegression"
   ]
  },
  {
   "cell_type": "code",
   "execution_count": null,
   "metadata": {},
   "outputs": [],
   "source": [
    "model_lr = LinearRegression()\n",
    "model_lr.fit(X.reshape(-1,1), y.reshape(-1,1))\n",
    "coef, intercept = model_lr.coef_[0][0], model_lr.intercept_[0]\n",
    "\n",
    "print(coef, intercept)\n",
    "print(9/5, 32)"
   ]
  }
 ],
 "metadata": {
  "kernelspec": {
   "display_name": "Python 3",
   "language": "python",
   "name": "python3"
  },
  "language_info": {
   "codemirror_mode": {
    "name": "ipython",
    "version": 3
   },
   "file_extension": ".py",
   "mimetype": "text/x-python",
   "name": "python",
   "nbconvert_exporter": "python",
   "pygments_lexer": "ipython3",
   "version": "3.6.8"
  }
 },
 "nbformat": 4,
 "nbformat_minor": 4
}
