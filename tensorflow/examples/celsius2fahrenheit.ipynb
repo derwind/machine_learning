{
 "cells": [
  {
   "cell_type": "markdown",
   "metadata": {},
   "source": [
    "# Determine parameters of Celcius-Fahrenheit converting formula"
   ]
  },
  {
   "cell_type": "markdown",
   "metadata": {},
   "source": [
    "# Answer\n",
    "\n",
    "\\begin{align}\n",
    "F = \\frac{9}{5} C + 32\n",
    "\\end{align}"
   ]
  },
  {
   "cell_type": "code",
   "execution_count": 1,
   "metadata": {},
   "outputs": [],
   "source": [
    "import numpy as np\n",
    "import random\n",
    "import matplotlib.pyplot as plt"
   ]
  },
  {
   "cell_type": "markdown",
   "metadata": {},
   "source": [
    "## Generating data with randomness"
   ]
  },
  {
   "cell_type": "code",
   "execution_count": 2,
   "metadata": {},
   "outputs": [],
   "source": [
    "xs = np.arange(-5, 15, 0.05)\n",
    "ys = np.array([x*9/5+32 + random.gauss(0,3) for x in xs])"
   ]
  },
  {
   "cell_type": "code",
   "execution_count": 3,
   "metadata": {},
   "outputs": [
    {
     "data": {
      "image/png": "[encoded data removed]",
      "text/plain": [
       "<Figure size 432x288 with 1 Axes>"
      ]
     },
     "metadata": {
      "needs_background": "light"
     },
     "output_type": "display_data"
    }
   ],
   "source": [
    "ys_ideal = np.array([x*9/5+32 for x in xs])\n",
    "plt.scatter(xs,ys)\n",
    "plt.plot(xs,ys_ideal, color='red')\n",
    "plt.xlabel('Celsius')\n",
    "plt.ylabel('Fahrenheit')\n",
    "plt.show()"
   ]
  },
  {
   "cell_type": "markdown",
   "metadata": {},
   "source": [
    "Consider $\\mathop{\\rm arg~max}\\limits_{\\alpha,\\beta} \\sum_{j=1}^N (y_j - t_j)^2$, where $y_j = \\alpha x_j + \\beta$.\n",
    "\\begin{align}\n",
    "\\frac{\\partial}{\\partial \\alpha} \\sum_{j=1}^N (y_j - t_j)^2 &= \\sum_{j=1}^N 2x_j(\\alpha x_j + \\beta - t_j) = 2\\Big( \\left(\\sum x_j^2\\right) \\alpha + \\left(\\sum x_j\\right) \\beta - \\sum x_j t_j \\Big), \\\\\n",
    "\\frac{\\partial}{\\partial \\beta} \\sum_{j=1}^N (y_j - t_j)^2 &= \\sum_{j=1}^N 2(\\alpha x_j + \\beta - t_j) = 2\\Big( \\left(\\sum x_j\\right) \\alpha + N \\beta - \\sum t_j \\Big).\n",
    "\\end{align}\n",
    "\n",
    "Solving the normal equation, we get $\\alpha = \\frac{\\sum (x_j -\\bar{x})(t_j - \\bar{t})}{\\sum(x_j - \\bar{x})^2},\\ \\beta = \\bar{t} - \\alpha \\bar{x}$, where $\\bar{x} = \\frac{1}{N}\\sum x_j,\\ \\bar{t} = \\frac{1}{N}\\sum t_j$"
   ]
  },
  {
   "cell_type": "markdown",
   "metadata": {},
   "source": [
    "## Verification 1 - Direct Calculation"
   ]
  },
  {
   "cell_type": "code",
   "execution_count": 4,
   "metadata": {},
   "outputs": [
    {
     "name": "stdout",
     "output_type": "stream",
     "text": [
      "estimate: 1.8215084258189564 32.05213768082538\n",
      "ideal: 1.8 32\n"
     ]
    }
   ],
   "source": [
    "xs_mean = np.mean(xs)\n",
    "ys_mean = np.mean(ys)\n",
    "alpha = np.sum((xs - xs_mean)*(ys - ys_mean))/np.sum((xs - xs_mean)**2)\n",
    "beta = ys_mean - alpha * xs_mean\n",
    "\n",
    "print('estimate:', alpha, beta)\n",
    "print('ideal:', 9/5, 32)"
   ]
  },
  {
   "cell_type": "markdown",
   "metadata": {},
   "source": [
    "## Verification 2 - using scikit-learn"
   ]
  },
  {
   "cell_type": "code",
   "execution_count": 5,
   "metadata": {},
   "outputs": [],
   "source": [
    "from sklearn.linear_model import LinearRegression"
   ]
  },
  {
   "cell_type": "code",
   "execution_count": 6,
   "metadata": {},
   "outputs": [
    {
     "name": "stdout",
     "output_type": "stream",
     "text": [
      "estimate: 1.821508425818957 32.05213768082538\n",
      "ideal: 1.8 32\n"
     ]
    }
   ],
   "source": [
    "model_lr = LinearRegression()\n",
    "model_lr.fit(xs.reshape(-1,1), ys.reshape(-1,1))\n",
    "coef, intercept = model_lr.coef_[0][0], model_lr.intercept_[0]\n",
    "\n",
    "print('estimate:', coef, intercept)\n",
    "print('ideal:', 9/5, 32)"
   ]
  },
  {
   "cell_type": "markdown",
   "metadata": {},
   "source": [
    "## Verification 3 - using TensorFlow"
   ]
  },
  {
   "cell_type": "code",
   "execution_count": 7,
   "metadata": {},
   "outputs": [],
   "source": [
    "import tensorflow as tf\n",
    "import tensorflow_datasets as tfds\n",
    "from tensorflow.keras import layers, models"
   ]
  },
  {
   "cell_type": "code",
   "execution_count": 8,
   "metadata": {},
   "outputs": [],
   "source": [
    "# https://www.tensorflow.org/tutorials/load_data/numpy\n",
    "train_dataset = tf.data.Dataset.from_tensor_slices((xs, ys))\n",
    "BATCH_SIZE = 64\n",
    "SHUFFLE_BUFFER_SIZE = 100\n",
    "\n",
    "train_dataset = train_dataset.shuffle(SHUFFLE_BUFFER_SIZE).batch(BATCH_SIZE)"
   ]
  },
  {
   "cell_type": "code",
   "execution_count": 9,
   "metadata": {},
   "outputs": [
    {
     "name": "stdout",
     "output_type": "stream",
     "text": [
      "-4.350000000000002 28.821372080691226\n",
      "-3.550000000000005 23.03081919833488\n",
      "-4.450000000000002 23.25605335318977\n"
     ]
    }
   ],
   "source": [
    "for x, y in train_dataset:\n",
    "    print(float(x[0]), float(y[0]))\n",
    "    print(float(x[1]), float(y[1]))\n",
    "    print(float(x[2]), float(y[2]))\n",
    "    break"
   ]
  },
  {
   "cell_type": "code",
   "execution_count": 10,
   "metadata": {},
   "outputs": [
    {
     "name": "stdout",
     "output_type": "stream",
     "text": [
      "Model: \"sequential\"\n",
      "_________________________________________________________________\n",
      "Layer (type)                 Output Shape              Param #   \n",
      "=================================================================\n",
      "dense (Dense)                (None, 1)                 2         \n",
      "=================================================================\n",
      "Total params: 2\n",
      "Trainable params: 2\n",
      "Non-trainable params: 0\n",
      "_________________________________________________________________\n"
     ]
    }
   ],
   "source": [
    "model = models.Sequential()\n",
    "model.add(layers.Dense(1, input_shape=(1,)))\n",
    "\n",
    "model.summary()"
   ]
  },
  {
   "cell_type": "code",
   "execution_count": 11,
   "metadata": {},
   "outputs": [],
   "source": [
    "model.compile(optimizer='sgd', loss='mean_squared_error')"
   ]
  },
  {
   "cell_type": "code",
   "execution_count": 12,
   "metadata": {},
   "outputs": [],
   "source": [
    "history = model.fit(train_dataset, batch_size=BATCH_SIZE, epochs=100, verbose=0)"
   ]
  },
  {
   "cell_type": "code",
   "execution_count": 13,
   "metadata": {},
   "outputs": [
    {
     "data": {
      "text/plain": [
       "[795.586181640625,\n",
       " 309.0827331542969,\n",
       " 149.78033447265625,\n",
       " 77.96508026123047,\n",
       " 39.13333511352539,\n",
       " 24.364225387573242,\n",
       " 23.759767532348633,\n",
       " 14.099495887756348,\n",
       " 11.991227149963379,\n",
       " 10.624961853027344,\n",
       " 10.888957977294922,\n",
       " 9.428252220153809,\n",
       " 9.374397277832031,\n",
       " 9.403416633605957,\n",
       " 9.400552749633789,\n",
       " 11.363994598388672,\n",
       " 11.112797737121582,\n",
       " 9.299749374389648,\n",
       " 9.892905235290527,\n",
       " 10.148444175720215]"
      ]
     },
     "execution_count": 13,
     "metadata": {},
     "output_type": "execute_result"
    }
   ],
   "source": [
    "[loss for i, loss in enumerate(history.history['loss']) if i%5==0]"
   ]
  },
  {
   "cell_type": "code",
   "execution_count": 14,
   "metadata": {},
   "outputs": [
    {
     "name": "stdout",
     "output_type": "stream",
     "text": [
      "estimate: 1.7040822505950928 32.012107849121094\n",
      "ideal: 1.8 32\n"
     ]
    }
   ],
   "source": [
    "coef, intercept = float(model.layers[0].weights[0]), float(model.layers[0].bias[0])\n",
    "\n",
    "print('estimate:', coef, intercept)\n",
    "print('ideal:', 9/5, 32)"
   ]
  }
 ],
 "metadata": {
  "kernelspec": {
   "display_name": "Python 3",
   "language": "python",
   "name": "python3"
  },
  "language_info": {
   "codemirror_mode": {
    "name": "ipython",
    "version": 3
   },
   "file_extension": ".py",
   "mimetype": "text/x-python",
   "name": "python",
   "nbconvert_exporter": "python",
   "pygments_lexer": "ipython3",
   "version": "3.7.7"
  }
 },
 "nbformat": 4,
 "nbformat_minor": 4
}
